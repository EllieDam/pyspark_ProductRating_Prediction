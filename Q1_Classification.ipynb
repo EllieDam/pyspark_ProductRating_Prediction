{
 "cells": [
  {
   "cell_type": "markdown",
   "id": "86b7abe7",
   "metadata": {
    "id": "86b7abe7"
   },
   "source": [
    "## Question 1: Classification - Women's E-Commerce Clothing Reviews\n",
    "- Use womens-ecommerce-clothing-reviews dataset (file Womens_Clothing_E_Commerce_Reviews.xlsx, sheetName: Reviews) to build a model to predict products’ ratings (based on Review Text and other optional features)\n",
    "- Please predict ratings for products in Womens_Clothing_E_Commerce_Reviews.xlsx, sheetName: new_reviews.\n",
    "- Read more information here: https://www.kaggle.com/nicapotato/womens-ecommerce-clothing-reviews"
   ]
  },
  {
   "cell_type": "markdown",
   "id": "VLpEiR3YIX1h",
   "metadata": {
    "id": "VLpEiR3YIX1h"
   },
   "source": [
    "# 0.Working environment preparation & Package import"
   ]
  },
  {
   "cell_type": "code",
   "execution_count": 1,
   "id": "c3778bc2",
   "metadata": {
    "colab": {
     "base_uri": "https://localhost:8080/"
    },
    "executionInfo": {
     "elapsed": 6408,
     "status": "ok",
     "timestamp": 1642993698566,
     "user": {
      "displayName": "Phuong Dam",
      "photoUrl": "https://lh3.googleusercontent.com/a/default-user=s64",
      "userId": "01072403895711103873"
     },
     "user_tz": -420
    },
    "id": "c3778bc2",
    "outputId": "255f5c95-ef09-4304-8e9d-bcf9bbe9eb4e"
   },
   "outputs": [],
   "source": [
    "# !apt-get update"
   ]
  },
  {
   "cell_type": "code",
   "execution_count": 2,
   "id": "5a420e73",
   "metadata": {
    "colab": {
     "base_uri": "https://localhost:8080/"
    },
    "executionInfo": {
     "elapsed": 31164,
     "status": "ok",
     "timestamp": 1642993729726,
     "user": {
      "displayName": "Phuong Dam",
      "photoUrl": "https://lh3.googleusercontent.com/a/default-user=s64",
      "userId": "01072403895711103873"
     },
     "user_tz": -420
    },
    "id": "5a420e73",
    "outputId": "48d01367-1ca8-4d3e-c1aa-258057039e7a"
   },
   "outputs": [],
   "source": [
    "# !apt-get install openjdk-8-jdk-headless -qq > /dev/null\n",
    "# !wget -q http://archive.apache.org/dist/spark/spark-2.4.0/spark-2.4.0-bin-hadoop2.7.tgz\n",
    "# !tar -xvf spark-2.4.0-bin-hadoop2.7.tgz\n",
    "# !pip install -q findspark\n",
    "# import os\n",
    "# os.environ[\"JAVA_HOME\"] = \"/usr/lib/jvm/java-8-openjdk-amd64\"\n",
    "# os.environ[\"SPARK_HOME\"] = \"/content/spark-2.4.0-bin-hadoop2.7\""
   ]
  },
  {
   "cell_type": "code",
   "execution_count": 3,
   "id": "854166ef",
   "metadata": {
    "colab": {
     "base_uri": "https://localhost:8080/"
    },
    "executionInfo": {
     "elapsed": 16878,
     "status": "ok",
     "timestamp": 1642993759641,
     "user": {
      "displayName": "Phuong Dam",
      "photoUrl": "https://lh3.googleusercontent.com/a/default-user=s64",
      "userId": "01072403895711103873"
     },
     "user_tz": -420
    },
    "id": "854166ef",
    "outputId": "001889a1-6d14-4747-cba7-c23b648c125c"
   },
   "outputs": [],
   "source": [
    "# from google.colab import drive\n",
    "# drive.mount('/content/gdrive', force_remount=True)"
   ]
  },
  {
   "cell_type": "code",
   "execution_count": 4,
   "id": "ae87bb3a",
   "metadata": {
    "colab": {
     "base_uri": "https://localhost:8080/"
    },
    "executionInfo": {
     "elapsed": 8,
     "status": "ok",
     "timestamp": 1642993759642,
     "user": {
      "displayName": "Phuong Dam",
      "photoUrl": "https://lh3.googleusercontent.com/a/default-user=s64",
      "userId": "01072403895711103873"
     },
     "user_tz": -420
    },
    "id": "ae87bb3a",
    "outputId": "d6b03cb3-2f8a-46af-d547-e7de73d62a68"
   },
   "outputs": [],
   "source": [
    "# %cd \"/content/gdrive/MyDrive/LDS9_K272_ONLINE_DamThiMinhPhuong/LDS9_K272_DamThiMinhPhuong_Cuoi_ky\""
   ]
  },
  {
   "cell_type": "code",
   "execution_count": 5,
   "id": "84e5a85e",
   "metadata": {
    "executionInfo": {
     "elapsed": 559,
     "status": "ok",
     "timestamp": 1642993760198,
     "user": {
      "displayName": "Phuong Dam",
      "photoUrl": "https://lh3.googleusercontent.com/a/default-user=s64",
      "userId": "01072403895711103873"
     },
     "user_tz": -420
    },
    "id": "84e5a85e"
   },
   "outputs": [],
   "source": [
    "import findspark\n",
    "findspark.init()\n",
    "from pyspark import SparkContext\n",
    "from pyspark.conf import SparkConf\n",
    "from pyspark.sql import SparkSession"
   ]
  },
  {
   "cell_type": "code",
   "execution_count": 6,
   "id": "abc64ff8",
   "metadata": {
    "executionInfo": {
     "elapsed": 343,
     "status": "ok",
     "timestamp": 1642993760534,
     "user": {
      "displayName": "Phuong Dam",
      "photoUrl": "https://lh3.googleusercontent.com/a/default-user=s64",
      "userId": "01072403895711103873"
     },
     "user_tz": -420
    },
    "id": "abc64ff8"
   },
   "outputs": [],
   "source": [
    "import pandas as pd\n",
    "from time import time\n",
    "from pyspark.sql.functions import *\n",
    "from pyspark.sql.types import *\n",
    "from pyspark.ml.feature import StringIndexer, Tokenizer, StopWordsRemover\n",
    "from pyspark.ml.feature import CountVectorizer, IDF\n",
    "from pyspark.ml.feature import VectorAssembler\n",
    "from pyspark.ml.linalg import Vector\n",
    "from pyspark.ml import Pipeline\n",
    "from pyspark.ml.classification import NaiveBayes\n",
    "from pyspark.ml.classification import LogisticRegression, RandomForestClassifier\n",
    "from pyspark.ml.classification import DecisionTreeClassifier, GBTClassifier\n",
    "from pyspark.ml.evaluation import MulticlassClassificationEvaluator\n",
    "from builtins import round"
   ]
  },
  {
   "cell_type": "markdown",
   "id": "hBVw3a7eJCCz",
   "metadata": {
    "id": "hBVw3a7eJCCz"
   },
   "source": [
    "# 1. Data set understanding"
   ]
  },
  {
   "cell_type": "code",
   "execution_count": 7,
   "id": "AcfZB90-JKqJ",
   "metadata": {
    "executionInfo": {
     "elapsed": 5791,
     "status": "ok",
     "timestamp": 1642993774372,
     "user": {
      "displayName": "Phuong Dam",
      "photoUrl": "https://lh3.googleusercontent.com/a/default-user=s64",
      "userId": "01072403895711103873"
     },
     "user_tz": -420
    },
    "id": "AcfZB90-JKqJ"
   },
   "outputs": [
    {
     "name": "stderr",
     "output_type": "stream",
     "text": [
      "22/01/24 11:18:29 WARN Utils: Your hostname, Ellies-MacBook-Pro.local resolves to a loopback address: 127.0.0.1; using 192.168.1.3 instead (on interface en0)\n",
      "22/01/24 11:18:29 WARN Utils: Set SPARK_LOCAL_IP if you need to bind to another address\n",
      "Using Spark's default log4j profile: org/apache/spark/log4j-defaults.properties\n",
      "Setting default log level to \"WARN\".\n",
      "To adjust logging level use sc.setLogLevel(newLevel). For SparkR, use setLogLevel(newLevel).\n",
      "22/01/24 11:18:30 WARN NativeCodeLoader: Unable to load native-hadoop library for your platform... using builtin-java classes where applicable\n",
      "22/01/24 11:18:31 WARN Utils: Service 'SparkUI' could not bind on port 4040. Attempting port 4041.\n"
     ]
    }
   ],
   "source": [
    "spark = SparkSession.builder.appName('Q1_classification').getOrCreate()"
   ]
  },
  {
   "cell_type": "code",
   "execution_count": 8,
   "id": "c0WlpTbLJcRa",
   "metadata": {
    "executionInfo": {
     "elapsed": 3886,
     "status": "ok",
     "timestamp": 1642993778255,
     "user": {
      "displayName": "Phuong Dam",
      "photoUrl": "https://lh3.googleusercontent.com/a/default-user=s64",
      "userId": "01072403895711103873"
     },
     "user_tz": -420
    },
    "id": "c0WlpTbLJcRa"
   },
   "outputs": [],
   "source": [
    "# Read excel file using pandas\n",
    "df = pd.read_excel('data/womens-ecommerce-clothing-reviews/Womens_Clothing_E_Commerce_Reviews.xlsx', sheet_name='Reviews', index_col=0)"
   ]
  },
  {
   "cell_type": "code",
   "execution_count": 9,
   "id": "xaWRhX_5N_XB",
   "metadata": {
    "colab": {
     "base_uri": "https://localhost:8080/",
     "height": 299
    },
    "executionInfo": {
     "elapsed": 25,
     "status": "ok",
     "timestamp": 1642993778255,
     "user": {
      "displayName": "Phuong Dam",
      "photoUrl": "https://lh3.googleusercontent.com/a/default-user=s64",
      "userId": "01072403895711103873"
     },
     "user_tz": -420
    },
    "id": "xaWRhX_5N_XB",
    "outputId": "e027831c-826b-4f4b-a717-d4c77346deb1"
   },
   "outputs": [
    {
     "data": {
      "text/html": [
       "<div>\n",
       "<style scoped>\n",
       "    .dataframe tbody tr th:only-of-type {\n",
       "        vertical-align: middle;\n",
       "    }\n",
       "\n",
       "    .dataframe tbody tr th {\n",
       "        vertical-align: top;\n",
       "    }\n",
       "\n",
       "    .dataframe thead th {\n",
       "        text-align: right;\n",
       "    }\n",
       "</style>\n",
       "<table border=\"1\" class=\"dataframe\">\n",
       "  <thead>\n",
       "    <tr style=\"text-align: right;\">\n",
       "      <th></th>\n",
       "      <th>Clothing ID</th>\n",
       "      <th>Age</th>\n",
       "      <th>Title</th>\n",
       "      <th>Review Text</th>\n",
       "      <th>Rating</th>\n",
       "      <th>Recommended IND</th>\n",
       "      <th>Positive Feedback Count</th>\n",
       "      <th>Division Name</th>\n",
       "      <th>Department Name</th>\n",
       "      <th>Class Name</th>\n",
       "    </tr>\n",
       "  </thead>\n",
       "  <tbody>\n",
       "    <tr>\n",
       "      <th>0</th>\n",
       "      <td>767</td>\n",
       "      <td>33</td>\n",
       "      <td>NaN</td>\n",
       "      <td>Absolutely wonderful - silky and sexy and comf...</td>\n",
       "      <td>4</td>\n",
       "      <td>1</td>\n",
       "      <td>0</td>\n",
       "      <td>Initmates</td>\n",
       "      <td>Intimate</td>\n",
       "      <td>Intimates</td>\n",
       "    </tr>\n",
       "    <tr>\n",
       "      <th>1</th>\n",
       "      <td>1080</td>\n",
       "      <td>34</td>\n",
       "      <td>NaN</td>\n",
       "      <td>Love this dress!  it's sooo pretty.  i happene...</td>\n",
       "      <td>5</td>\n",
       "      <td>1</td>\n",
       "      <td>4</td>\n",
       "      <td>General</td>\n",
       "      <td>Dresses</td>\n",
       "      <td>Dresses</td>\n",
       "    </tr>\n",
       "    <tr>\n",
       "      <th>2</th>\n",
       "      <td>1077</td>\n",
       "      <td>60</td>\n",
       "      <td>Some major design flaws</td>\n",
       "      <td>I had such high hopes for this dress and reall...</td>\n",
       "      <td>3</td>\n",
       "      <td>0</td>\n",
       "      <td>0</td>\n",
       "      <td>General</td>\n",
       "      <td>Dresses</td>\n",
       "      <td>Dresses</td>\n",
       "    </tr>\n",
       "    <tr>\n",
       "      <th>3</th>\n",
       "      <td>1049</td>\n",
       "      <td>50</td>\n",
       "      <td>My favorite buy!</td>\n",
       "      <td>I love, love, love this jumpsuit. it's fun, fl...</td>\n",
       "      <td>5</td>\n",
       "      <td>1</td>\n",
       "      <td>0</td>\n",
       "      <td>General Petite</td>\n",
       "      <td>Bottoms</td>\n",
       "      <td>Pants</td>\n",
       "    </tr>\n",
       "    <tr>\n",
       "      <th>4</th>\n",
       "      <td>847</td>\n",
       "      <td>47</td>\n",
       "      <td>Flattering shirt</td>\n",
       "      <td>This shirt is very flattering to all due to th...</td>\n",
       "      <td>5</td>\n",
       "      <td>1</td>\n",
       "      <td>6</td>\n",
       "      <td>General</td>\n",
       "      <td>Tops</td>\n",
       "      <td>Blouses</td>\n",
       "    </tr>\n",
       "  </tbody>\n",
       "</table>\n",
       "</div>"
      ],
      "text/plain": [
       "   Clothing ID  Age                    Title  \\\n",
       "0          767   33                      NaN   \n",
       "1         1080   34                      NaN   \n",
       "2         1077   60  Some major design flaws   \n",
       "3         1049   50         My favorite buy!   \n",
       "4          847   47         Flattering shirt   \n",
       "\n",
       "                                         Review Text  Rating  Recommended IND  \\\n",
       "0  Absolutely wonderful - silky and sexy and comf...       4                1   \n",
       "1  Love this dress!  it's sooo pretty.  i happene...       5                1   \n",
       "2  I had such high hopes for this dress and reall...       3                0   \n",
       "3  I love, love, love this jumpsuit. it's fun, fl...       5                1   \n",
       "4  This shirt is very flattering to all due to th...       5                1   \n",
       "\n",
       "   Positive Feedback Count   Division Name Department Name Class Name  \n",
       "0                        0       Initmates        Intimate  Intimates  \n",
       "1                        4         General         Dresses    Dresses  \n",
       "2                        0         General         Dresses    Dresses  \n",
       "3                        0  General Petite         Bottoms      Pants  \n",
       "4                        6         General            Tops    Blouses  "
      ]
     },
     "execution_count": 9,
     "metadata": {},
     "output_type": "execute_result"
    }
   ],
   "source": [
    "df.head(5)"
   ]
  },
  {
   "cell_type": "code",
   "execution_count": 10,
   "id": "9pdyEdmrNvqC",
   "metadata": {
    "colab": {
     "base_uri": "https://localhost:8080/"
    },
    "executionInfo": {
     "elapsed": 18,
     "status": "ok",
     "timestamp": 1642993778255,
     "user": {
      "displayName": "Phuong Dam",
      "photoUrl": "https://lh3.googleusercontent.com/a/default-user=s64",
      "userId": "01072403895711103873"
     },
     "user_tz": -420
    },
    "id": "9pdyEdmrNvqC",
    "outputId": "8b55e62d-ad6c-434a-840d-9d62ffa9a878"
   },
   "outputs": [
    {
     "name": "stdout",
     "output_type": "stream",
     "text": [
      "<class 'pandas.core.frame.DataFrame'>\n",
      "Int64Index: 23481 entries, 0 to 23480\n",
      "Data columns (total 10 columns):\n",
      " #   Column                   Non-Null Count  Dtype \n",
      "---  ------                   --------------  ----- \n",
      " 0   Clothing ID              23481 non-null  int64 \n",
      " 1   Age                      23481 non-null  int64 \n",
      " 2   Title                    19671 non-null  object\n",
      " 3   Review Text              22636 non-null  object\n",
      " 4   Rating                   23481 non-null  int64 \n",
      " 5   Recommended IND          23481 non-null  int64 \n",
      " 6   Positive Feedback Count  23481 non-null  int64 \n",
      " 7   Division Name            23467 non-null  object\n",
      " 8   Department Name          23467 non-null  object\n",
      " 9   Class Name               23467 non-null  object\n",
      "dtypes: int64(5), object(5)\n",
      "memory usage: 2.0+ MB\n"
     ]
    }
   ],
   "source": [
    "df.info()"
   ]
  },
  {
   "cell_type": "code",
   "execution_count": 11,
   "id": "pBcnj58OOCe7",
   "metadata": {
    "executionInfo": {
     "elapsed": 7,
     "status": "ok",
     "timestamp": 1642993778256,
     "user": {
      "displayName": "Phuong Dam",
      "photoUrl": "https://lh3.googleusercontent.com/a/default-user=s64",
      "userId": "01072403895711103873"
     },
     "user_tz": -420
    },
    "id": "pBcnj58OOCe7"
   },
   "outputs": [],
   "source": [
    "df_sub = df[['Review Text', 'Rating']]"
   ]
  },
  {
   "cell_type": "code",
   "execution_count": 12,
   "id": "DzHWnLNqMaZs",
   "metadata": {
    "executionInfo": {
     "elapsed": 2637,
     "status": "ok",
     "timestamp": 1642993780887,
     "user": {
      "displayName": "Phuong Dam",
      "photoUrl": "https://lh3.googleusercontent.com/a/default-user=s64",
      "userId": "01072403895711103873"
     },
     "user_tz": -420
    },
    "id": "DzHWnLNqMaZs"
   },
   "outputs": [],
   "source": [
    "# convert pandas dataframe to pyspark dataframe\n",
    "df_schema = StructType([StructField(\"Review Text\", StringType(), True)\\\n",
    "                       ,StructField(\"Rating\", IntegerType(), True)])\n",
    "data = spark.createDataFrame(df_sub, schema=df_schema)"
   ]
  },
  {
   "cell_type": "code",
   "execution_count": 13,
   "id": "9yv2XutWMjZx",
   "metadata": {
    "colab": {
     "base_uri": "https://localhost:8080/"
    },
    "executionInfo": {
     "elapsed": 2575,
     "status": "ok",
     "timestamp": 1642993783455,
     "user": {
      "displayName": "Phuong Dam",
      "photoUrl": "https://lh3.googleusercontent.com/a/default-user=s64",
      "userId": "01072403895711103873"
     },
     "user_tz": -420
    },
    "id": "9yv2XutWMjZx",
    "outputId": "6a142b64-5bc6-4bab-9df2-355a8ac4d892"
   },
   "outputs": [
    {
     "name": "stderr",
     "output_type": "stream",
     "text": [
      "                                                                                \r"
     ]
    },
    {
     "data": {
      "text/plain": [
       "23481"
      ]
     },
     "execution_count": 13,
     "metadata": {},
     "output_type": "execute_result"
    }
   ],
   "source": [
    "data.count()"
   ]
  },
  {
   "cell_type": "code",
   "execution_count": 14,
   "id": "w_Dkze_4QHOQ",
   "metadata": {
    "colab": {
     "base_uri": "https://localhost:8080/"
    },
    "executionInfo": {
     "elapsed": 587,
     "status": "ok",
     "timestamp": 1642993784038,
     "user": {
      "displayName": "Phuong Dam",
      "photoUrl": "https://lh3.googleusercontent.com/a/default-user=s64",
      "userId": "01072403895711103873"
     },
     "user_tz": -420
    },
    "id": "w_Dkze_4QHOQ",
    "outputId": "dd263dd3-194f-42e0-8270-4be47822747e"
   },
   "outputs": [
    {
     "name": "stdout",
     "output_type": "stream",
     "text": [
      "root\n",
      " |-- Review Text: string (nullable = true)\n",
      " |-- Rating: integer (nullable = true)\n",
      "\n"
     ]
    }
   ],
   "source": [
    "data.printSchema()"
   ]
  },
  {
   "cell_type": "code",
   "execution_count": 15,
   "id": "lO2cKEwiQKFB",
   "metadata": {
    "colab": {
     "base_uri": "https://localhost:8080/"
    },
    "executionInfo": {
     "elapsed": 16,
     "status": "ok",
     "timestamp": 1642993784039,
     "user": {
      "displayName": "Phuong Dam",
      "photoUrl": "https://lh3.googleusercontent.com/a/default-user=s64",
      "userId": "01072403895711103873"
     },
     "user_tz": -420
    },
    "id": "lO2cKEwiQKFB",
    "outputId": "8e91b788-69fa-4fe4-c2c1-7fbbcbf7b14d"
   },
   "outputs": [
    {
     "name": "stdout",
     "output_type": "stream",
     "text": [
      "+--------------------+------+\n",
      "|         Review Text|Rating|\n",
      "+--------------------+------+\n",
      "|Absolutely wonder...|     4|\n",
      "|Love this dress! ...|     5|\n",
      "|I had such high h...|     3|\n",
      "|I love, love, lov...|     5|\n",
      "|This shirt is ver...|     5|\n",
      "+--------------------+------+\n",
      "only showing top 5 rows\n",
      "\n"
     ]
    }
   ],
   "source": [
    "data.show(5)"
   ]
  },
  {
   "cell_type": "markdown",
   "id": "EziqN0xWQhHD",
   "metadata": {
    "id": "EziqN0xWQhHD"
   },
   "source": [
    "# 2. Data preprocessing"
   ]
  },
  {
   "cell_type": "code",
   "execution_count": 16,
   "id": "npiaGPZKQgjH",
   "metadata": {
    "colab": {
     "base_uri": "https://localhost:8080/",
     "height": 80
    },
    "executionInfo": {
     "elapsed": 1656,
     "status": "ok",
     "timestamp": 1642993785691,
     "user": {
      "displayName": "Phuong Dam",
      "photoUrl": "https://lh3.googleusercontent.com/a/default-user=s64",
      "userId": "01072403895711103873"
     },
     "user_tz": -420
    },
    "id": "npiaGPZKQgjH",
    "outputId": "08f04402-79cc-4b68-9154-a5ea2b791e47"
   },
   "outputs": [
    {
     "data": {
      "text/html": [
       "<div>\n",
       "<style scoped>\n",
       "    .dataframe tbody tr th:only-of-type {\n",
       "        vertical-align: middle;\n",
       "    }\n",
       "\n",
       "    .dataframe tbody tr th {\n",
       "        vertical-align: top;\n",
       "    }\n",
       "\n",
       "    .dataframe thead th {\n",
       "        text-align: right;\n",
       "    }\n",
       "</style>\n",
       "<table border=\"1\" class=\"dataframe\">\n",
       "  <thead>\n",
       "    <tr style=\"text-align: right;\">\n",
       "      <th></th>\n",
       "      <th>Review Text</th>\n",
       "      <th>Rating</th>\n",
       "    </tr>\n",
       "  </thead>\n",
       "  <tbody>\n",
       "    <tr>\n",
       "      <th>0</th>\n",
       "      <td>0</td>\n",
       "      <td>0</td>\n",
       "    </tr>\n",
       "  </tbody>\n",
       "</table>\n",
       "</div>"
      ],
      "text/plain": [
       "   Review Text  Rating\n",
       "0            0       0"
      ]
     },
     "execution_count": 16,
     "metadata": {},
     "output_type": "execute_result"
    }
   ],
   "source": [
    "# Check null values\n",
    "data.select([count(when(col(c).isNull(), c)).alias(c) for c in data.columns]).toPandas()"
   ]
  },
  {
   "cell_type": "code",
   "execution_count": 17,
   "id": "HH_mPP6BQyIQ",
   "metadata": {
    "colab": {
     "base_uri": "https://localhost:8080/",
     "height": 80
    },
    "executionInfo": {
     "elapsed": 388,
     "status": "ok",
     "timestamp": 1642993786070,
     "user": {
      "displayName": "Phuong Dam",
      "photoUrl": "https://lh3.googleusercontent.com/a/default-user=s64",
      "userId": "01072403895711103873"
     },
     "user_tz": -420
    },
    "id": "HH_mPP6BQyIQ",
    "outputId": "c17c9cae-b570-45cd-c7f7-517011406cb0"
   },
   "outputs": [
    {
     "data": {
      "text/html": [
       "<div>\n",
       "<style scoped>\n",
       "    .dataframe tbody tr th:only-of-type {\n",
       "        vertical-align: middle;\n",
       "    }\n",
       "\n",
       "    .dataframe tbody tr th {\n",
       "        vertical-align: top;\n",
       "    }\n",
       "\n",
       "    .dataframe thead th {\n",
       "        text-align: right;\n",
       "    }\n",
       "</style>\n",
       "<table border=\"1\" class=\"dataframe\">\n",
       "  <thead>\n",
       "    <tr style=\"text-align: right;\">\n",
       "      <th></th>\n",
       "      <th>Review Text</th>\n",
       "      <th>Rating</th>\n",
       "    </tr>\n",
       "  </thead>\n",
       "  <tbody>\n",
       "    <tr>\n",
       "      <th>0</th>\n",
       "      <td>845</td>\n",
       "      <td>0</td>\n",
       "    </tr>\n",
       "  </tbody>\n",
       "</table>\n",
       "</div>"
      ],
      "text/plain": [
       "   Review Text  Rating\n",
       "0          845       0"
      ]
     },
     "execution_count": 17,
     "metadata": {},
     "output_type": "execute_result"
    }
   ],
   "source": [
    "data.select([count(when(isnan(c), c)).alias(c) for c in data.columns]).toPandas()"
   ]
  },
  {
   "cell_type": "code",
   "execution_count": 18,
   "id": "wGMWAYZxRmNC",
   "metadata": {
    "colab": {
     "base_uri": "https://localhost:8080/"
    },
    "executionInfo": {
     "elapsed": 989,
     "status": "ok",
     "timestamp": 1642993787054,
     "user": {
      "displayName": "Phuong Dam",
      "photoUrl": "https://lh3.googleusercontent.com/a/default-user=s64",
      "userId": "01072403895711103873"
     },
     "user_tz": -420
    },
    "id": "wGMWAYZxRmNC",
    "outputId": "dc51c215-0944-4cdf-e731-c984a6a773de"
   },
   "outputs": [
    {
     "data": {
      "text/plain": [
       "22636"
      ]
     },
     "execution_count": 18,
     "metadata": {},
     "output_type": "execute_result"
    }
   ],
   "source": [
    "def to_null(c):\n",
    "    return when(~(col(c).isNull() | isnan(col(c)) | (trim(col(c)) == \"\")), col(c))\n",
    "\n",
    "\n",
    "data = data.select([to_null(c).alias(c) for c in data.columns]).na.drop()\n",
    "data.count()"
   ]
  },
  {
   "cell_type": "code",
   "execution_count": 19,
   "id": "A9H5qk1lQgdh",
   "metadata": {
    "colab": {
     "base_uri": "https://localhost:8080/"
    },
    "executionInfo": {
     "elapsed": 4830,
     "status": "ok",
     "timestamp": 1642993791879,
     "user": {
      "displayName": "Phuong Dam",
      "photoUrl": "https://lh3.googleusercontent.com/a/default-user=s64",
      "userId": "01072403895711103873"
     },
     "user_tz": -420
    },
    "id": "A9H5qk1lQgdh",
    "outputId": "cd1333af-92f2-47a6-fbf1-6e6e3cf3d89a"
   },
   "outputs": [
    {
     "name": "stderr",
     "output_type": "stream",
     "text": [
      "                                                                                \r"
     ]
    },
    {
     "data": {
      "text/plain": [
       "7"
      ]
     },
     "execution_count": 19,
     "metadata": {},
     "output_type": "execute_result"
    }
   ],
   "source": [
    "# Check duplicates\n",
    "dup_rows = data.count() - data.distinct().count()\n",
    "dup_rows"
   ]
  },
  {
   "cell_type": "code",
   "execution_count": 20,
   "id": "WV-yjLiwQga8",
   "metadata": {
    "colab": {
     "base_uri": "https://localhost:8080/"
    },
    "executionInfo": {
     "elapsed": 2441,
     "status": "ok",
     "timestamp": 1642993794312,
     "user": {
      "displayName": "Phuong Dam",
      "photoUrl": "https://lh3.googleusercontent.com/a/default-user=s64",
      "userId": "01072403895711103873"
     },
     "user_tz": -420
    },
    "id": "WV-yjLiwQga8",
    "outputId": "a0adc640-93d5-475b-94e2-fdda8a14e0b9"
   },
   "outputs": [
    {
     "name": "stderr",
     "output_type": "stream",
     "text": [
      "                                                                                \r"
     ]
    },
    {
     "data": {
      "text/plain": [
       "22629"
      ]
     },
     "execution_count": 20,
     "metadata": {},
     "output_type": "execute_result"
    }
   ],
   "source": [
    "# Drop duplicates\n",
    "data = data.drop_duplicates()\n",
    "data.count()"
   ]
  },
  {
   "cell_type": "code",
   "execution_count": 21,
   "id": "782GNs47RXzt",
   "metadata": {
    "colab": {
     "base_uri": "https://localhost:8080/"
    },
    "executionInfo": {
     "elapsed": 556,
     "status": "ok",
     "timestamp": 1642993794861,
     "user": {
      "displayName": "Phuong Dam",
      "photoUrl": "https://lh3.googleusercontent.com/a/default-user=s64",
      "userId": "01072403895711103873"
     },
     "user_tz": -420
    },
    "id": "782GNs47RXzt",
    "outputId": "39f514f2-ddf3-4c79-ae59-814586084b46"
   },
   "outputs": [
    {
     "name": "stderr",
     "output_type": "stream",
     "text": [
      "\r",
      "[Stage 28:>                                                         (0 + 8) / 8]\r"
     ]
    },
    {
     "name": "stdout",
     "output_type": "stream",
     "text": [
      "+--------------------+------+------+\n",
      "|         Review Text|Rating|length|\n",
      "+--------------------+------+------+\n",
      "|Omg - wish it cam...|     5|    35|\n",
      "|This is a beautif...|     3|   203|\n",
      "|This skirt fits m...|     5|   276|\n",
      "|I bought three of...|     3|   500|\n",
      "|I can't figure ou...|     3|   254|\n",
      "+--------------------+------+------+\n",
      "only showing top 5 rows\n",
      "\n"
     ]
    },
    {
     "name": "stderr",
     "output_type": "stream",
     "text": [
      "\r",
      "                                                                                \r"
     ]
    }
   ],
   "source": [
    "# Create column 'length'\n",
    "data = data.withColumn('length', length(data['Review Text']))\n",
    "data.show(5)"
   ]
  },
  {
   "cell_type": "code",
   "execution_count": 22,
   "id": "bnNZtlllRvba",
   "metadata": {
    "colab": {
     "base_uri": "https://localhost:8080/"
    },
    "executionInfo": {
     "elapsed": 6006,
     "status": "ok",
     "timestamp": 1642993800863,
     "user": {
      "displayName": "Phuong Dam",
      "photoUrl": "https://lh3.googleusercontent.com/a/default-user=s64",
      "userId": "01072403895711103873"
     },
     "user_tz": -420
    },
    "id": "bnNZtlllRvba",
    "outputId": "abc6bcfa-6c33-40bb-b68c-ac4412cdd9d5"
   },
   "outputs": [
    {
     "name": "stdout",
     "output_type": "stream",
     "text": [
      "+------+-----------+------------------+\n",
      "|Rating|avg(Rating)|       avg(length)|\n",
      "+------+-----------+------------------+\n",
      "|     1|        1.0| 305.0365853658537|\n",
      "|     3|        3.0| 328.4156626506024|\n",
      "|     5|        5.0|298.94318997845687|\n",
      "|     4|        4.0|323.43386998165886|\n",
      "|     2|        2.0| 319.2857142857143|\n",
      "+------+-----------+------------------+\n",
      "\n"
     ]
    }
   ],
   "source": [
    "data.groupBy('Rating').mean().show()"
   ]
  },
  {
   "cell_type": "markdown",
   "id": "VGIhKtdKSFR8",
   "metadata": {
    "id": "VGIhKtdKSFR8"
   },
   "source": [
    "#### Nhận xét: Không có sự khác biệt rõ rệt giữa độ dài của 'Review Text' ở các Rating khác nhau"
   ]
  },
  {
   "cell_type": "code",
   "execution_count": 23,
   "id": "DvA7i9cXR1t2",
   "metadata": {
    "colab": {
     "base_uri": "https://localhost:8080/"
    },
    "executionInfo": {
     "elapsed": 4351,
     "status": "ok",
     "timestamp": 1642993805209,
     "user": {
      "displayName": "Phuong Dam",
      "photoUrl": "https://lh3.googleusercontent.com/a/default-user=s64",
      "userId": "01072403895711103873"
     },
     "user_tz": -420
    },
    "id": "DvA7i9cXR1t2",
    "outputId": "d69a0dfd-8d8a-460b-b611-3c928fd6777c"
   },
   "outputs": [
    {
     "name": "stdout",
     "output_type": "stream",
     "text": [
      "+------+-----+\n",
      "|Rating|count|\n",
      "+------+-----+\n",
      "|     5|12533|\n",
      "|     4| 4907|\n",
      "|     3| 2822|\n",
      "|     2| 1547|\n",
      "|     1|  820|\n",
      "+------+-----+\n",
      "\n"
     ]
    }
   ],
   "source": [
    "data.groupby('Rating').count().orderBy('Rating', ascending=False).show()"
   ]
  },
  {
   "cell_type": "markdown",
   "id": "9tmiPhoD-SOe",
   "metadata": {
    "id": "9tmiPhoD-SOe"
   },
   "source": [
    "#### Có thể thấy rằng dữ liệu thiếu cân bằng => cân nhắc đến việc resampling"
   ]
  },
  {
   "cell_type": "markdown",
   "id": "cj03QTQSShzd",
   "metadata": {
    "id": "cj03QTQSShzd"
   },
   "source": [
    "### ---Using NLP tools "
   ]
  },
  {
   "cell_type": "code",
   "execution_count": 24,
   "id": "NRBSTCZwS2yn",
   "metadata": {
    "executionInfo": {
     "elapsed": 10,
     "status": "ok",
     "timestamp": 1642993805210,
     "user": {
      "displayName": "Phuong Dam",
      "photoUrl": "https://lh3.googleusercontent.com/a/default-user=s64",
      "userId": "01072403895711103873"
     },
     "user_tz": -420
    },
    "id": "NRBSTCZwS2yn"
   },
   "outputs": [
    {
     "name": "stderr",
     "output_type": "stream",
     "text": [
      "22/01/24 11:18:53 WARN StopWordsRemover: Default locale set was [en_VN]; however, it was not found in available locales in JVM, falling back to en_US locale. Set param `locale` in order to respect another locale.\n"
     ]
    }
   ],
   "source": [
    "rating_to_num = StringIndexer(inputCol='Rating', outputCol='label')\n",
    "\n",
    "tokenizer = Tokenizer(inputCol='Review Text', outputCol='token_text')\n",
    "stopremove = StopWordsRemover(inputCol='token_text', outputCol='stop_token')\n",
    "count_vec = CountVectorizer(inputCol='stop_token', outputCol='c_vec')\n",
    "idf = IDF(inputCol='c_vec', outputCol='tf_idf')"
   ]
  },
  {
   "cell_type": "code",
   "execution_count": 25,
   "id": "S_u-j-HNSzaw",
   "metadata": {
    "executionInfo": {
     "elapsed": 6,
     "status": "ok",
     "timestamp": 1642993805210,
     "user": {
      "displayName": "Phuong Dam",
      "photoUrl": "https://lh3.googleusercontent.com/a/default-user=s64",
      "userId": "01072403895711103873"
     },
     "user_tz": -420
    },
    "id": "S_u-j-HNSzaw"
   },
   "outputs": [],
   "source": [
    "clean_up = VectorAssembler(inputCols=['tf_idf'], \n",
    "                           outputCol='features')"
   ]
  },
  {
   "cell_type": "code",
   "execution_count": 26,
   "id": "SIVsfqa9UAO8",
   "metadata": {
    "executionInfo": {
     "elapsed": 5,
     "status": "ok",
     "timestamp": 1642993805210,
     "user": {
      "displayName": "Phuong Dam",
      "photoUrl": "https://lh3.googleusercontent.com/a/default-user=s64",
      "userId": "01072403895711103873"
     },
     "user_tz": -420
    },
    "id": "SIVsfqa9UAO8"
   },
   "outputs": [],
   "source": [
    "data_prep_pipe = Pipeline(stages=[rating_to_num,\n",
    "                                  tokenizer,\n",
    "                                  stopremove,\n",
    "                                  count_vec,\n",
    "                                  idf,\n",
    "                                  clean_up\n",
    "                                 ])"
   ]
  },
  {
   "cell_type": "code",
   "execution_count": 27,
   "id": "48sqMk0yUHkK",
   "metadata": {
    "executionInfo": {
     "elapsed": 29248,
     "status": "ok",
     "timestamp": 1642993834453,
     "user": {
      "displayName": "Phuong Dam",
      "photoUrl": "https://lh3.googleusercontent.com/a/default-user=s64",
      "userId": "01072403895711103873"
     },
     "user_tz": -420
    },
    "id": "48sqMk0yUHkK"
   },
   "outputs": [
    {
     "name": "stderr",
     "output_type": "stream",
     "text": [
      "                                                                                \r"
     ]
    }
   ],
   "source": [
    "cleaner = data_prep_pipe.fit(data)"
   ]
  },
  {
   "cell_type": "code",
   "execution_count": 28,
   "id": "fZ05Oh_wUJ88",
   "metadata": {
    "executionInfo": {
     "elapsed": 1237,
     "status": "ok",
     "timestamp": 1642993835682,
     "user": {
      "displayName": "Phuong Dam",
      "photoUrl": "https://lh3.googleusercontent.com/a/default-user=s64",
      "userId": "01072403895711103873"
     },
     "user_tz": -420
    },
    "id": "fZ05Oh_wUJ88"
   },
   "outputs": [],
   "source": [
    "clean_data = cleaner.transform(data)"
   ]
  },
  {
   "cell_type": "code",
   "execution_count": 29,
   "id": "PmMGZuP0UXdY",
   "metadata": {
    "colab": {
     "base_uri": "https://localhost:8080/"
    },
    "executionInfo": {
     "elapsed": 971,
     "status": "ok",
     "timestamp": 1642993836646,
     "user": {
      "displayName": "Phuong Dam",
      "photoUrl": "https://lh3.googleusercontent.com/a/default-user=s64",
      "userId": "01072403895711103873"
     },
     "user_tz": -420
    },
    "id": "PmMGZuP0UXdY",
    "outputId": "1329950e-ea1a-4337-f7d0-d3234a241012"
   },
   "outputs": [
    {
     "name": "stderr",
     "output_type": "stream",
     "text": [
      "22/01/24 11:19:06 WARN DAGScheduler: Broadcasting large task binary with size 3.1 MiB\n"
     ]
    },
    {
     "name": "stdout",
     "output_type": "stream",
     "text": [
      "+-----+--------------------+\n",
      "|label|            features|\n",
      "+-----+--------------------+\n",
      "|  0.0|(38354,[22,119,23...|\n",
      "|  2.0|(38354,[9,13,17,3...|\n",
      "|  0.0|(38354,[20,23,38,...|\n",
      "|  2.0|(38354,[13,18,24,...|\n",
      "|  2.0|(38354,[8,28,36,3...|\n",
      "|  4.0|(38354,[29,30,35,...|\n",
      "|  0.0|(38354,[0,32,33,3...|\n",
      "|  0.0|(38354,[0,2,4,5,7...|\n",
      "|  0.0|(38354,[0,26,65,8...|\n",
      "|  0.0|(38354,[0,1,4,15,...|\n",
      "+-----+--------------------+\n",
      "only showing top 10 rows\n",
      "\n"
     ]
    }
   ],
   "source": [
    "clean_data = clean_data.select('label', 'features')\n",
    "clean_data.show(10)"
   ]
  },
  {
   "cell_type": "code",
   "execution_count": 30,
   "id": "iaXVQkVeUdnx",
   "metadata": {
    "executionInfo": {
     "elapsed": 6,
     "status": "ok",
     "timestamp": 1642993836646,
     "user": {
      "displayName": "Phuong Dam",
      "photoUrl": "https://lh3.googleusercontent.com/a/default-user=s64",
      "userId": "01072403895711103873"
     },
     "user_tz": -420
    },
    "id": "iaXVQkVeUdnx"
   },
   "outputs": [],
   "source": [
    "training, testing = clean_data.randomSplit([0.8, 0.2], seed=42)"
   ]
  },
  {
   "cell_type": "markdown",
   "id": "n7QKBGopUMZB",
   "metadata": {
    "id": "n7QKBGopUMZB"
   },
   "source": [
    "# 3. Build Model - Original data\n",
    "- Model 1 - NaiveBayes\n",
    "- Model 2 - Logistic Regression\n",
    "- Model 3 - Decision Tree\n",
    "- Model 4 - Random Forest"
   ]
  },
  {
   "cell_type": "markdown",
   "id": "2hRR2wV0dGcn",
   "metadata": {
    "id": "2hRR2wV0dGcn"
   },
   "source": [
    "## --- NaiveBayes"
   ]
  },
  {
   "cell_type": "code",
   "execution_count": 31,
   "id": "o7iNgsVNULp1",
   "metadata": {
    "executionInfo": {
     "elapsed": 556,
     "status": "ok",
     "timestamp": 1642993837199,
     "user": {
      "displayName": "Phuong Dam",
      "photoUrl": "https://lh3.googleusercontent.com/a/default-user=s64",
      "userId": "01072403895711103873"
     },
     "user_tz": -420
    },
    "id": "o7iNgsVNULp1"
   },
   "outputs": [],
   "source": [
    "nb = NaiveBayes()"
   ]
  },
  {
   "cell_type": "code",
   "execution_count": 32,
   "id": "M88moiIgUUH6",
   "metadata": {
    "executionInfo": {
     "elapsed": 31121,
     "status": "ok",
     "timestamp": 1642993868315,
     "user": {
      "displayName": "Phuong Dam",
      "photoUrl": "https://lh3.googleusercontent.com/a/default-user=s64",
      "userId": "01072403895711103873"
     },
     "user_tz": -420
    },
    "id": "M88moiIgUUH6"
   },
   "outputs": [
    {
     "name": "stderr",
     "output_type": "stream",
     "text": [
      "22/01/24 11:19:08 WARN DAGScheduler: Broadcasting large task binary with size 3.1 MiB\n",
      "22/01/24 11:19:10 WARN DAGScheduler: Broadcasting large task binary with size 3.1 MiB\n",
      "                                                                                \r"
     ]
    }
   ],
   "source": [
    "t0 = time()\n",
    "predictor_1 = nb.fit(training)\n",
    "t1 = round(time() -t0,4)"
   ]
  },
  {
   "cell_type": "code",
   "execution_count": 33,
   "id": "o5AHqG3_UrWu",
   "metadata": {
    "colab": {
     "base_uri": "https://localhost:8080/"
    },
    "executionInfo": {
     "elapsed": 1053,
     "status": "ok",
     "timestamp": 1642993869361,
     "user": {
      "displayName": "Phuong Dam",
      "photoUrl": "https://lh3.googleusercontent.com/a/default-user=s64",
      "userId": "01072403895711103873"
     },
     "user_tz": -420
    },
    "id": "o5AHqG3_UrWu",
    "outputId": "2dec2d8d-32f9-4239-f5c6-afe1e866024b"
   },
   "outputs": [
    {
     "name": "stderr",
     "output_type": "stream",
     "text": [
      "22/01/24 11:19:12 WARN DAGScheduler: Broadcasting large task binary with size 4.6 MiB\n"
     ]
    },
    {
     "name": "stdout",
     "output_type": "stream",
     "text": [
      "+-----+--------------------+--------------------+--------------------+----------+\n",
      "|label|            features|       rawPrediction|         probability|prediction|\n",
      "+-----+--------------------+--------------------+--------------------+----------+\n",
      "|  0.0|(38354,[0,1,2,3,4...|[-1492.8908018867...|[0.99999999999999...|       0.0|\n",
      "|  0.0|(38354,[0,1,2,4,5...|[-1191.3073531971...|[0.99999995131989...|       0.0|\n",
      "|  0.0|(38354,[0,1,2,4,5...|[-1824.8218492129...|[1.42706522115141...|       1.0|\n",
      "+-----+--------------------+--------------------+--------------------+----------+\n",
      "only showing top 3 rows\n",
      "\n"
     ]
    },
    {
     "name": "stderr",
     "output_type": "stream",
     "text": [
      "\r",
      "[Stage 71:>                                                         (0 + 1) / 1]\r",
      "\r",
      "                                                                                \r"
     ]
    }
   ],
   "source": [
    "test_result_1 = predictor_1.transform(testing)\n",
    "test_result_1.show(3)"
   ]
  },
  {
   "cell_type": "code",
   "execution_count": 34,
   "id": "12GcVSa4UxO6",
   "metadata": {
    "colab": {
     "base_uri": "https://localhost:8080/"
    },
    "executionInfo": {
     "elapsed": 24800,
     "status": "ok",
     "timestamp": 1642993894155,
     "user": {
      "displayName": "Phuong Dam",
      "photoUrl": "https://lh3.googleusercontent.com/a/default-user=s64",
      "userId": "01072403895711103873"
     },
     "user_tz": -420
    },
    "id": "12GcVSa4UxO6",
    "outputId": "bb418727-6b1b-4108-d791-e153b0f2d349"
   },
   "outputs": [
    {
     "name": "stderr",
     "output_type": "stream",
     "text": [
      "22/01/24 11:19:13 WARN DAGScheduler: Broadcasting large task binary with size 4.6 MiB\n",
      "[Stage 74:>                                                         (0 + 5) / 5]\r"
     ]
    },
    {
     "name": "stdout",
     "output_type": "stream",
     "text": [
      "+-----+----------+-----+\n",
      "|label|prediction|count|\n",
      "+-----+----------+-----+\n",
      "|  2.0|       0.0|   51|\n",
      "|  1.0|       1.0|  357|\n",
      "|  3.0|       2.0|  113|\n",
      "|  4.0|       2.0|   67|\n",
      "|  0.0|       1.0|  524|\n",
      "|  0.0|       4.0|   73|\n",
      "|  1.0|       0.0|  291|\n",
      "|  2.0|       2.0|  211|\n",
      "|  3.0|       1.0|   51|\n",
      "|  2.0|       3.0|  104|\n",
      "+-----+----------+-----+\n",
      "only showing top 10 rows\n",
      "\n"
     ]
    },
    {
     "name": "stderr",
     "output_type": "stream",
     "text": [
      "22/01/24 11:19:14 WARN DAGScheduler: Broadcasting large task binary with size 4.6 MiB\n",
      "\r",
      "                                                                                \r"
     ]
    }
   ],
   "source": [
    "# Confusion matrix\n",
    "test_result_1.groupBy('label', 'prediction').count().show(10)"
   ]
  },
  {
   "cell_type": "code",
   "execution_count": 35,
   "id": "2Ek9lOB7aiPm",
   "metadata": {
    "executionInfo": {
     "elapsed": 146334,
     "status": "ok",
     "timestamp": 1642994040481,
     "user": {
      "displayName": "Phuong Dam",
      "photoUrl": "https://lh3.googleusercontent.com/a/default-user=s64",
      "userId": "01072403895711103873"
     },
     "user_tz": -420
    },
    "id": "2Ek9lOB7aiPm"
   },
   "outputs": [
    {
     "name": "stderr",
     "output_type": "stream",
     "text": [
      "22/01/24 11:19:16 WARN DAGScheduler: Broadcasting large task binary with size 4.6 MiB\n",
      "22/01/24 11:19:18 WARN DAGScheduler: Broadcasting large task binary with size 4.6 MiB\n",
      "22/01/24 11:19:19 WARN DAGScheduler: Broadcasting large task binary with size 4.6 MiB\n",
      "22/01/24 11:19:22 WARN DAGScheduler: Broadcasting large task binary with size 4.6 MiB\n",
      "                                                                                \r"
     ]
    }
   ],
   "source": [
    "# Evaluation\n",
    "multi_eval  = MulticlassClassificationEvaluator()\n",
    "acc_1       = round(multi_eval.evaluate(test_result_1, {multi_eval.metricName:'accuracy'}),4)\n",
    "precision_1 = round(multi_eval.evaluate(test_result_1, {multi_eval.metricName:'weightedPrecision'}),4)\n",
    "recall_1    = round(multi_eval.evaluate(test_result_1, {multi_eval.metricName:'weightedRecall'}),4)\n",
    "f1_1        = round(multi_eval.evaluate(test_result_1, {multi_eval.metricName:'f1'}),4)"
   ]
  },
  {
   "cell_type": "code",
   "execution_count": 36,
   "id": "53e0b353",
   "metadata": {
    "executionInfo": {
     "elapsed": 11,
     "status": "ok",
     "timestamp": 1642994040483,
     "user": {
      "displayName": "Phuong Dam",
      "photoUrl": "https://lh3.googleusercontent.com/a/default-user=s64",
      "userId": "01072403895711103873"
     },
     "user_tz": -420
    },
    "id": "53e0b353"
   },
   "outputs": [],
   "source": [
    "result_columns = ['Model','Accuracy','Precision','Recall','F1 Score','Duration']\n",
    "result = spark.createDataFrame([('Naive Bayes',acc_1, precision_1, recall_1, f1_1 , t1)],\n",
    "                               result_columns)"
   ]
  },
  {
   "cell_type": "code",
   "execution_count": 37,
   "id": "76a140a1",
   "metadata": {
    "colab": {
     "base_uri": "https://localhost:8080/"
    },
    "executionInfo": {
     "elapsed": 565,
     "status": "ok",
     "timestamp": 1642994041042,
     "user": {
      "displayName": "Phuong Dam",
      "photoUrl": "https://lh3.googleusercontent.com/a/default-user=s64",
      "userId": "01072403895711103873"
     },
     "user_tz": -420
    },
    "id": "76a140a1",
    "outputId": "0eaf2633-ebf4-4135-b2be-328771c9662f"
   },
   "outputs": [
    {
     "name": "stdout",
     "output_type": "stream",
     "text": [
      "+-----------+--------+---------+------+--------+--------+\n",
      "|      Model|Accuracy|Precision|Recall|F1 Score|Duration|\n",
      "+-----------+--------+---------+------+--------+--------+\n",
      "|Naive Bayes|  0.5245|   0.5806|0.5245|  0.5464|  3.9727|\n",
      "+-----------+--------+---------+------+--------+--------+\n",
      "\n"
     ]
    }
   ],
   "source": [
    "result.show()"
   ]
  },
  {
   "cell_type": "markdown",
   "id": "Iqb7_OuYdCsj",
   "metadata": {
    "id": "Iqb7_OuYdCsj"
   },
   "source": [
    "## --- Logistic Regression"
   ]
  },
  {
   "cell_type": "code",
   "execution_count": 38,
   "id": "c65dfa35",
   "metadata": {
    "executionInfo": {
     "elapsed": 6,
     "status": "ok",
     "timestamp": 1642994041043,
     "user": {
      "displayName": "Phuong Dam",
      "photoUrl": "https://lh3.googleusercontent.com/a/default-user=s64",
      "userId": "01072403895711103873"
     },
     "user_tz": -420
    },
    "id": "c65dfa35"
   },
   "outputs": [],
   "source": [
    "lg = LogisticRegression(maxIter=10, regParam=0, elasticNetParam=0)"
   ]
  },
  {
   "cell_type": "code",
   "execution_count": 39,
   "id": "6a84c0e4",
   "metadata": {
    "executionInfo": {
     "elapsed": 170550,
     "status": "ok",
     "timestamp": 1642994211589,
     "user": {
      "displayName": "Phuong Dam",
      "photoUrl": "https://lh3.googleusercontent.com/a/default-user=s64",
      "userId": "01072403895711103873"
     },
     "user_tz": -420
    },
    "id": "6a84c0e4"
   },
   "outputs": [
    {
     "name": "stderr",
     "output_type": "stream",
     "text": [
      "22/01/24 11:19:24 WARN DAGScheduler: Broadcasting large task binary with size 3.1 MiB\n",
      "22/01/24 11:19:26 WARN DAGScheduler: Broadcasting large task binary with size 3.1 MiB\n",
      "22/01/24 11:19:27 WARN InstanceBuilder$NativeBLAS: Failed to load implementation from:dev.ludovic.netlib.blas.JNIBLAS\n",
      "22/01/24 11:19:27 WARN InstanceBuilder$NativeBLAS: Failed to load implementation from:dev.ludovic.netlib.blas.ForeignLinkerBLAS\n",
      "22/01/24 11:19:27 WARN BLAS: Failed to load implementation from: com.github.fommil.netlib.NativeSystemBLAS\n",
      "22/01/24 11:19:27 WARN BLAS: Failed to load implementation from: com.github.fommil.netlib.NativeRefBLAS\n",
      "22/01/24 11:19:27 WARN DAGScheduler: Broadcasting large task binary with size 3.1 MiB\n",
      "22/01/24 11:19:28 WARN DAGScheduler: Broadcasting large task binary with size 3.1 MiB\n",
      "22/01/24 11:19:28 WARN DAGScheduler: Broadcasting large task binary with size 3.1 MiB\n",
      "22/01/24 11:19:28 WARN DAGScheduler: Broadcasting large task binary with size 3.1 MiB\n",
      "22/01/24 11:19:29 WARN DAGScheduler: Broadcasting large task binary with size 3.1 MiB\n",
      "22/01/24 11:19:30 WARN DAGScheduler: Broadcasting large task binary with size 3.1 MiB\n",
      "22/01/24 11:19:30 WARN DAGScheduler: Broadcasting large task binary with size 3.1 MiB\n",
      "22/01/24 11:19:30 WARN DAGScheduler: Broadcasting large task binary with size 3.1 MiB\n",
      "22/01/24 11:19:31 WARN DAGScheduler: Broadcasting large task binary with size 3.1 MiB\n",
      "22/01/24 11:19:31 WARN DAGScheduler: Broadcasting large task binary with size 3.1 MiB\n"
     ]
    }
   ],
   "source": [
    "t0 = time()\n",
    "predictor_2 = lg.fit(training)\n",
    "t1 = round(time() -t0,4)"
   ]
  },
  {
   "cell_type": "code",
   "execution_count": 40,
   "id": "ae138748",
   "metadata": {
    "colab": {
     "base_uri": "https://localhost:8080/"
    },
    "executionInfo": {
     "elapsed": 600,
     "status": "ok",
     "timestamp": 1642994212181,
     "user": {
      "displayName": "Phuong Dam",
      "photoUrl": "https://lh3.googleusercontent.com/a/default-user=s64",
      "userId": "01072403895711103873"
     },
     "user_tz": -420
    },
    "id": "ae138748",
    "outputId": "87c44b5a-95c8-4c7a-e65e-62dfa869d816"
   },
   "outputs": [
    {
     "name": "stderr",
     "output_type": "stream",
     "text": [
      "22/01/24 11:19:33 WARN DAGScheduler: Broadcasting large task binary with size 4.6 MiB\n",
      "[Stage 126:>                                                        (0 + 1) / 1]\r"
     ]
    },
    {
     "name": "stdout",
     "output_type": "stream",
     "text": [
      "+-----+--------------------+--------------------+--------------------+----------+\n",
      "|label|            features|       rawPrediction|         probability|prediction|\n",
      "+-----+--------------------+--------------------+--------------------+----------+\n",
      "|  0.0|(38354,[0,1,2,3,4...|[5.70533564429449...|[0.92167053550081...|       0.0|\n",
      "|  0.0|(38354,[0,1,2,4,5...|[8.10740101150328...|[0.99903787756441...|       0.0|\n",
      "|  0.0|(38354,[0,1,2,4,5...|[-4.2442765183582...|[7.27163479146906...|       1.0|\n",
      "+-----+--------------------+--------------------+--------------------+----------+\n",
      "only showing top 3 rows\n",
      "\n"
     ]
    },
    {
     "name": "stderr",
     "output_type": "stream",
     "text": [
      "\r",
      "                                                                                \r"
     ]
    }
   ],
   "source": [
    "test_result_2 = predictor_2.transform(testing)\n",
    "test_result_2.show(3)"
   ]
  },
  {
   "cell_type": "code",
   "execution_count": 41,
   "id": "a0714470",
   "metadata": {
    "colab": {
     "base_uri": "https://localhost:8080/"
    },
    "executionInfo": {
     "elapsed": 29402,
     "status": "ok",
     "timestamp": 1642994241579,
     "user": {
      "displayName": "Phuong Dam",
      "photoUrl": "https://lh3.googleusercontent.com/a/default-user=s64",
      "userId": "01072403895711103873"
     },
     "user_tz": -420
    },
    "id": "a0714470",
    "outputId": "45eef353-4f3e-458b-acf5-3df58c29ee31"
   },
   "outputs": [
    {
     "name": "stderr",
     "output_type": "stream",
     "text": [
      "22/01/24 11:19:35 WARN DAGScheduler: Broadcasting large task binary with size 4.6 MiB\n",
      "[Stage 129:>                                                        (0 + 5) / 5]\r"
     ]
    },
    {
     "name": "stdout",
     "output_type": "stream",
     "text": [
      "+-----+----------+-----+\n",
      "|label|prediction|count|\n",
      "+-----+----------+-----+\n",
      "|  2.0|       0.0|   82|\n",
      "|  1.0|       1.0|  301|\n",
      "|  3.0|       2.0|  110|\n",
      "|  4.0|       2.0|   70|\n",
      "|  0.0|       1.0|  486|\n",
      "|  0.0|       4.0|   31|\n",
      "|  1.0|       0.0|  367|\n",
      "|  2.0|       2.0|  194|\n",
      "|  3.0|       1.0|   61|\n",
      "|  2.0|       3.0|   95|\n",
      "|  1.0|       4.0|   16|\n",
      "|  4.0|       4.0|   29|\n",
      "|  2.0|       4.0|   30|\n",
      "|  3.0|       4.0|   37|\n",
      "|  2.0|       1.0|  136|\n",
      "|  1.0|       2.0|  194|\n",
      "|  0.0|       0.0| 1729|\n",
      "|  1.0|       3.0|   75|\n",
      "|  4.0|       3.0|   38|\n",
      "|  0.0|       2.0|  112|\n",
      "+-----+----------+-----+\n",
      "only showing top 20 rows\n",
      "\n"
     ]
    },
    {
     "name": "stderr",
     "output_type": "stream",
     "text": [
      "22/01/24 11:19:36 WARN DAGScheduler: Broadcasting large task binary with size 4.6 MiB\n",
      "\r",
      "                                                                                \r"
     ]
    }
   ],
   "source": [
    "# Confusion matrix\n",
    "test_result_2.groupBy('label', 'prediction').count().show()"
   ]
  },
  {
   "cell_type": "code",
   "execution_count": 42,
   "id": "90b9ed10",
   "metadata": {
    "executionInfo": {
     "elapsed": 145533,
     "status": "ok",
     "timestamp": 1642994387101,
     "user": {
      "displayName": "Phuong Dam",
      "photoUrl": "https://lh3.googleusercontent.com/a/default-user=s64",
      "userId": "01072403895711103873"
     },
     "user_tz": -420
    },
    "id": "90b9ed10"
   },
   "outputs": [
    {
     "name": "stderr",
     "output_type": "stream",
     "text": [
      "22/01/24 11:19:36 WARN DAGScheduler: Broadcasting large task binary with size 4.6 MiB\n",
      "22/01/24 11:19:37 WARN DAGScheduler: Broadcasting large task binary with size 4.6 MiB\n",
      "22/01/24 11:19:39 WARN DAGScheduler: Broadcasting large task binary with size 4.6 MiB\n",
      "22/01/24 11:19:41 WARN DAGScheduler: Broadcasting large task binary with size 4.6 MiB\n",
      "                                                                                \r"
     ]
    }
   ],
   "source": [
    "# Evaluation\n",
    "acc_2       = round(multi_eval.evaluate(test_result_2, {multi_eval.metricName:'accuracy'}),4)\n",
    "precision_2 = round(multi_eval.evaluate(test_result_2, {multi_eval.metricName:'weightedPrecision'}),4)\n",
    "recall_2    = round(multi_eval.evaluate(test_result_2, {multi_eval.metricName:'weightedRecall'}),4)\n",
    "f1_2        = round(multi_eval.evaluate(test_result_2, {multi_eval.metricName:'f1'}),4)"
   ]
  },
  {
   "cell_type": "code",
   "execution_count": 43,
   "id": "2cfe391d",
   "metadata": {
    "colab": {
     "base_uri": "https://localhost:8080/"
    },
    "executionInfo": {
     "elapsed": 745,
     "status": "ok",
     "timestamp": 1642994387838,
     "user": {
      "displayName": "Phuong Dam",
      "photoUrl": "https://lh3.googleusercontent.com/a/default-user=s64",
      "userId": "01072403895711103873"
     },
     "user_tz": -420
    },
    "id": "2cfe391d",
    "outputId": "4a30c879-06b9-487f-b547-78a04a22481e"
   },
   "outputs": [
    {
     "name": "stdout",
     "output_type": "stream",
     "text": [
      "+-------------------+--------+---------+------+--------+--------+\n",
      "|              Model|Accuracy|Precision|Recall|F1 Score|Duration|\n",
      "+-------------------+--------+---------+------+--------+--------+\n",
      "|        Naive Bayes|  0.5245|   0.5806|0.5245|  0.5464|  3.9727|\n",
      "|Logistic Regression|  0.5275|    0.549|0.5275|  0.5368|   9.427|\n",
      "+-------------------+--------+---------+------+--------+--------+\n",
      "\n"
     ]
    }
   ],
   "source": [
    "result_2 = spark.createDataFrame([('Logistic Regression',acc_2, precision_2, recall_2, f1_2 , t1)],\n",
    "                                 result_columns)\n",
    "result = result.union(result_2)\n",
    "result.show()"
   ]
  },
  {
   "cell_type": "markdown",
   "id": "299a64c1",
   "metadata": {
    "id": "299a64c1"
   },
   "source": [
    "## --- Random Forest"
   ]
  },
  {
   "cell_type": "code",
   "execution_count": 44,
   "id": "6861ca03",
   "metadata": {
    "executionInfo": {
     "elapsed": 7,
     "status": "ok",
     "timestamp": 1642994387839,
     "user": {
      "displayName": "Phuong Dam",
      "photoUrl": "https://lh3.googleusercontent.com/a/default-user=s64",
      "userId": "01072403895711103873"
     },
     "user_tz": -420
    },
    "id": "6861ca03"
   },
   "outputs": [],
   "source": [
    "rf = RandomForestClassifier(labelCol='label',\n",
    "                           featuresCol='features',\n",
    "                           numTrees=500,\n",
    "                           maxDepth=5,\n",
    "                           maxBins=64)"
   ]
  },
  {
   "cell_type": "code",
   "execution_count": 45,
   "id": "b6ceb7db",
   "metadata": {
    "executionInfo": {
     "elapsed": 785926,
     "status": "ok",
     "timestamp": 1642995173760,
     "user": {
      "displayName": "Phuong Dam",
      "photoUrl": "https://lh3.googleusercontent.com/a/default-user=s64",
      "userId": "01072403895711103873"
     },
     "user_tz": -420
    },
    "id": "b6ceb7db"
   },
   "outputs": [
    {
     "name": "stderr",
     "output_type": "stream",
     "text": [
      "22/01/24 11:19:44 WARN DAGScheduler: Broadcasting large task binary with size 3.1 MiB\n",
      "22/01/24 11:19:44 WARN DAGScheduler: Broadcasting large task binary with size 3.1 MiB\n",
      "22/01/24 11:19:45 WARN DAGScheduler: Broadcasting large task binary with size 3.5 MiB\n",
      "22/01/24 11:19:53 WARN DAGScheduler: Broadcasting large task binary with size 4.3 MiB\n",
      "22/01/24 11:19:54 WARN MemoryStore: Not enough space to cache rdd_304_2 in memory! (computed 62.1 MiB so far)\n",
      "22/01/24 11:19:54 WARN MemoryStore: Not enough space to cache rdd_304_0 in memory! (computed 62.1 MiB so far)\n",
      "22/01/24 11:19:54 WARN MemoryStore: Not enough space to cache rdd_304_3 in memory! (computed 62.1 MiB so far)\n",
      "22/01/24 11:19:54 WARN MemoryStore: Not enough space to cache rdd_304_1 in memory! (computed 62.1 MiB so far)\n",
      "22/01/24 11:19:54 WARN BlockManager: Persisting block rdd_304_1 to disk instead.\n",
      "22/01/24 11:19:55 WARN BlockManager: Persisting block rdd_304_0 to disk instead.\n",
      "22/01/24 11:19:55 WARN BlockManager: Persisting block rdd_304_2 to disk instead.\n",
      "22/01/24 11:19:54 WARN BlockManager: Persisting block rdd_304_3 to disk instead.\n",
      "22/01/24 11:19:55 WARN MemoryStore: Not enough space to cache rdd_304_4 in memory! (computed 93.5 MiB so far)\n",
      "22/01/24 11:19:55 WARN BlockManager: Persisting block rdd_304_4 to disk instead.\n",
      "22/01/24 11:19:57 WARN MemoryStore: Not enough space to cache rdd_304_0 in memory! (computed 93.5 MiB so far)\n",
      "22/01/24 11:19:57 WARN MemoryStore: Not enough space to cache rdd_304_3 in memory! (computed 62.1 MiB so far)\n",
      "22/01/24 11:19:57 WARN MemoryStore: Not enough space to cache rdd_304_1 in memory! (computed 93.5 MiB so far)\n",
      "22/01/24 11:19:57 WARN MemoryStore: Not enough space to cache rdd_304_2 in memory! (computed 93.5 MiB so far)\n",
      "22/01/24 11:19:59 WARN MemoryStore: Not enough space to cache rdd_304_4 in memory! (computed 62.1 MiB so far)\n",
      "22/01/24 11:20:07 WARN DAGScheduler: Broadcasting large task binary with size 4.9 MiB\n",
      "22/01/24 11:20:07 WARN MemoryStore: Not enough space to cache rdd_304_2 in memory! (computed 62.1 MiB so far)\n",
      "22/01/24 11:20:07 WARN MemoryStore: Not enough space to cache rdd_304_3 in memory! (computed 62.1 MiB so far)\n",
      "22/01/24 11:20:07 WARN MemoryStore: Not enough space to cache rdd_304_0 in memory! (computed 62.1 MiB so far)\n",
      "22/01/24 11:20:07 WARN MemoryStore: Not enough space to cache rdd_304_4 in memory! (computed 62.1 MiB so far)\n",
      "22/01/24 11:20:08 WARN MemoryStore: Not enough space to cache rdd_304_1 in memory! (computed 93.5 MiB so far)\n",
      "22/01/24 11:20:17 WARN DAGScheduler: Broadcasting large task binary with size 5.7 MiB\n",
      "22/01/24 11:20:18 WARN MemoryStore: Not enough space to cache rdd_304_2 in memory! (computed 62.1 MiB so far)\n",
      "22/01/24 11:20:18 WARN MemoryStore: Not enough space to cache rdd_304_3 in memory! (computed 62.1 MiB so far)\n",
      "22/01/24 11:20:18 WARN MemoryStore: Not enough space to cache rdd_304_1 in memory! (computed 62.1 MiB so far)\n",
      "22/01/24 11:20:18 WARN MemoryStore: Not enough space to cache rdd_304_0 in memory! (computed 62.1 MiB so far)\n",
      "22/01/24 11:20:18 WARN MemoryStore: Not enough space to cache rdd_304_4 in memory! (computed 93.5 MiB so far)\n",
      "22/01/24 11:20:29 WARN DAGScheduler: Broadcasting large task binary with size 6.7 MiB\n",
      "22/01/24 11:20:29 WARN MemoryStore: Not enough space to cache rdd_304_2 in memory! (computed 62.1 MiB so far)\n",
      "22/01/24 11:20:29 WARN MemoryStore: Not enough space to cache rdd_304_3 in memory! (computed 62.1 MiB so far)\n",
      "22/01/24 11:20:29 WARN MemoryStore: Not enough space to cache rdd_304_1 in memory! (computed 62.1 MiB so far)\n",
      "22/01/24 11:20:29 WARN MemoryStore: Not enough space to cache rdd_304_4 in memory! (computed 62.1 MiB so far)\n",
      "22/01/24 11:20:29 WARN MemoryStore: Not enough space to cache rdd_304_0 in memory! (computed 93.5 MiB so far)\n",
      "22/01/24 11:20:41 WARN DAGScheduler: Broadcasting large task binary with size 7.9 MiB\n",
      "22/01/24 11:20:41 WARN MemoryStore: Not enough space to cache rdd_304_4 in memory! (computed 62.1 MiB so far)\n",
      "22/01/24 11:20:41 WARN MemoryStore: Not enough space to cache rdd_304_2 in memory! (computed 62.1 MiB so far)\n",
      "22/01/24 11:20:41 WARN MemoryStore: Not enough space to cache rdd_304_3 in memory! (computed 62.1 MiB so far)\n",
      "22/01/24 11:20:41 WARN MemoryStore: Not enough space to cache rdd_304_0 in memory! (computed 62.1 MiB so far)\n",
      "22/01/24 11:20:42 WARN MemoryStore: Not enough space to cache rdd_304_1 in memory! (computed 93.5 MiB so far)\n",
      "                                                                                \r"
     ]
    }
   ],
   "source": [
    "t0 = time()\n",
    "predictor_3 = rf.fit(training)\n",
    "t1 = round(time() - t0,4)"
   ]
  },
  {
   "cell_type": "code",
   "execution_count": 46,
   "id": "2c300cdc",
   "metadata": {
    "colab": {
     "base_uri": "https://localhost:8080/"
    },
    "executionInfo": {
     "elapsed": 952,
     "status": "ok",
     "timestamp": 1642995174704,
     "user": {
      "displayName": "Phuong Dam",
      "photoUrl": "https://lh3.googleusercontent.com/a/default-user=s64",
      "userId": "01072403895711103873"
     },
     "user_tz": -420
    },
    "id": "2c300cdc",
    "outputId": "a8f01088-ad6a-4c47-9d84-74f9f3592e8a"
   },
   "outputs": [
    {
     "name": "stderr",
     "output_type": "stream",
     "text": [
      "22/01/24 11:20:55 WARN DAGScheduler: Broadcasting large task binary with size 5.4 MiB\n"
     ]
    },
    {
     "name": "stdout",
     "output_type": "stream",
     "text": [
      "+-----+--------------------+--------------------+--------------------+----------+\n",
      "|label|            features|       rawPrediction|         probability|prediction|\n",
      "+-----+--------------------+--------------------+--------------------+----------+\n",
      "|  0.0|(38354,[0,1,2,3,4...|[283.719431530566...|[0.56743886306113...|       0.0|\n",
      "|  0.0|(38354,[0,1,2,4,5...|[280.461505210456...|[0.56092301042091...|       0.0|\n",
      "|  0.0|(38354,[0,1,2,4,5...|[273.762981175837...|[0.54752596235167...|       0.0|\n",
      "+-----+--------------------+--------------------+--------------------+----------+\n",
      "only showing top 3 rows\n",
      "\n"
     ]
    }
   ],
   "source": [
    "test_result_3 = predictor_3.transform(testing)\n",
    "test_result_3.show(3)"
   ]
  },
  {
   "cell_type": "code",
   "execution_count": 47,
   "id": "7bcfe640",
   "metadata": {
    "colab": {
     "base_uri": "https://localhost:8080/"
    },
    "executionInfo": {
     "elapsed": 41304,
     "status": "ok",
     "timestamp": 1642995216002,
     "user": {
      "displayName": "Phuong Dam",
      "photoUrl": "https://lh3.googleusercontent.com/a/default-user=s64",
      "userId": "01072403895711103873"
     },
     "user_tz": -420
    },
    "id": "7bcfe640",
    "outputId": "ded2a52a-d444-4a67-ca2a-69e390a5d341"
   },
   "outputs": [
    {
     "name": "stderr",
     "output_type": "stream",
     "text": [
      "22/01/24 11:20:56 WARN DAGScheduler: Broadcasting large task binary with size 5.4 MiB\n",
      "[Stage 182:=============================================>           (4 + 1) / 5]\r"
     ]
    },
    {
     "name": "stdout",
     "output_type": "stream",
     "text": [
      "+-----+----------+-----+\n",
      "|label|prediction|count|\n",
      "+-----+----------+-----+\n",
      "|  2.0|       0.0|  537|\n",
      "|  1.0|       0.0|  953|\n",
      "|  0.0|       0.0| 2423|\n",
      "|  4.0|       0.0|  178|\n",
      "|  3.0|       0.0|  315|\n",
      "+-----+----------+-----+\n",
      "\n"
     ]
    },
    {
     "name": "stderr",
     "output_type": "stream",
     "text": [
      "22/01/24 11:20:57 WARN DAGScheduler: Broadcasting large task binary with size 5.4 MiB\n",
      "\r",
      "                                                                                \r"
     ]
    }
   ],
   "source": [
    "# Confusion matrix\n",
    "test_result_3.groupBy('label', 'prediction').count().show()"
   ]
  },
  {
   "cell_type": "code",
   "execution_count": 48,
   "id": "42c6c155",
   "metadata": {
    "executionInfo": {
     "elapsed": 211814,
     "status": "ok",
     "timestamp": 1642995427813,
     "user": {
      "displayName": "Phuong Dam",
      "photoUrl": "https://lh3.googleusercontent.com/a/default-user=s64",
      "userId": "01072403895711103873"
     },
     "user_tz": -420
    },
    "id": "42c6c155"
   },
   "outputs": [
    {
     "name": "stderr",
     "output_type": "stream",
     "text": [
      "22/01/24 11:20:58 WARN DAGScheduler: Broadcasting large task binary with size 5.4 MiB\n",
      "22/01/24 11:21:00 WARN DAGScheduler: Broadcasting large task binary with size 5.4 MiB\n",
      "22/01/24 11:21:02 WARN DAGScheduler: Broadcasting large task binary with size 5.4 MiB\n",
      "22/01/24 11:21:04 WARN DAGScheduler: Broadcasting large task binary with size 5.4 MiB\n",
      "                                                                                \r"
     ]
    }
   ],
   "source": [
    "# Evaluation\n",
    "acc_3       = round(multi_eval.evaluate(test_result_3, {multi_eval.metricName:'accuracy'}),4)\n",
    "precision_3 = round(multi_eval.evaluate(test_result_3, {multi_eval.metricName:'weightedPrecision'}),4)\n",
    "recall_3    = round(multi_eval.evaluate(test_result_3, {multi_eval.metricName:'weightedRecall'}),4)\n",
    "f1_3        = round(multi_eval.evaluate(test_result_3, {multi_eval.metricName:'f1'}),4)"
   ]
  },
  {
   "cell_type": "code",
   "execution_count": 49,
   "id": "abea9922",
   "metadata": {
    "colab": {
     "base_uri": "https://localhost:8080/"
    },
    "executionInfo": {
     "elapsed": 15,
     "status": "ok",
     "timestamp": 1642995427814,
     "user": {
      "displayName": "Phuong Dam",
      "photoUrl": "https://lh3.googleusercontent.com/a/default-user=s64",
      "userId": "01072403895711103873"
     },
     "user_tz": -420
    },
    "id": "abea9922",
    "outputId": "33a19f49-820b-4032-c8a3-f2f7cce28d56"
   },
   "outputs": [
    {
     "name": "stdout",
     "output_type": "stream",
     "text": [
      "+-------------------+--------+---------+------+--------+--------+\n",
      "|              Model|Accuracy|Precision|Recall|F1 Score|Duration|\n",
      "+-------------------+--------+---------+------+--------+--------+\n",
      "|        Naive Bayes|  0.5245|   0.5806|0.5245|  0.5464|  3.9727|\n",
      "|Logistic Regression|  0.5275|    0.549|0.5275|  0.5368|   9.427|\n",
      "|      Random Forest|  0.5499|   0.3024|0.5499|  0.3902| 71.8243|\n",
      "+-------------------+--------+---------+------+--------+--------+\n",
      "\n"
     ]
    }
   ],
   "source": [
    "result_3 = spark.createDataFrame([('Random Forest',acc_3, precision_3, recall_3, f1_3 , t1)],\n",
    "                                 result_columns)\n",
    "result = result.union(result_3)\n",
    "result.show()"
   ]
  },
  {
   "cell_type": "markdown",
   "id": "ad082b4e",
   "metadata": {
    "id": "ad082b4e"
   },
   "source": [
    "## --- Decision Tree"
   ]
  },
  {
   "cell_type": "code",
   "execution_count": 50,
   "id": "b574c2fc",
   "metadata": {
    "executionInfo": {
     "elapsed": 8,
     "status": "ok",
     "timestamp": 1642995427814,
     "user": {
      "displayName": "Phuong Dam",
      "photoUrl": "https://lh3.googleusercontent.com/a/default-user=s64",
      "userId": "01072403895711103873"
     },
     "user_tz": -420
    },
    "id": "b574c2fc"
   },
   "outputs": [],
   "source": [
    "tree = DecisionTreeClassifier(featuresCol='features', #inputs\n",
    "                      labelCol='label', #ouput\n",
    "                      predictionCol='prediction'  #prediction\n",
    "                     )"
   ]
  },
  {
   "cell_type": "code",
   "execution_count": 51,
   "id": "cd0992a2",
   "metadata": {
    "executionInfo": {
     "elapsed": 370985,
     "status": "ok",
     "timestamp": 1642995798792,
     "user": {
      "displayName": "Phuong Dam",
      "photoUrl": "https://lh3.googleusercontent.com/a/default-user=s64",
      "userId": "01072403895711103873"
     },
     "user_tz": -420
    },
    "id": "cd0992a2"
   },
   "outputs": [
    {
     "name": "stderr",
     "output_type": "stream",
     "text": [
      "22/01/24 11:21:06 WARN DAGScheduler: Broadcasting large task binary with size 3.1 MiB\n",
      "22/01/24 11:21:06 WARN DAGScheduler: Broadcasting large task binary with size 3.1 MiB\n",
      "22/01/24 11:21:07 WARN DAGScheduler: Broadcasting large task binary with size 3.5 MiB\n",
      "22/01/24 11:21:15 WARN DAGScheduler: Broadcasting large task binary with size 3.9 MiB\n",
      "22/01/24 11:21:15 WARN MemoryStore: Not enough space to cache rdd_415_1 in memory! (computed 61.3 MiB so far)\n",
      "22/01/24 11:21:15 WARN BlockManager: Persisting block rdd_415_1 to disk instead.\n",
      "22/01/24 11:21:15 WARN MemoryStore: Not enough space to cache rdd_415_0 in memory! (computed 61.3 MiB so far)\n",
      "22/01/24 11:21:15 WARN BlockManager: Persisting block rdd_415_0 to disk instead.\n",
      "22/01/24 11:21:15 WARN MemoryStore: Not enough space to cache rdd_415_4 in memory! (computed 39.9 MiB so far)\n",
      "22/01/24 11:21:15 WARN BlockManager: Persisting block rdd_415_4 to disk instead.\n",
      "22/01/24 11:21:15 WARN MemoryStore: Not enough space to cache rdd_415_3 in memory! (computed 92.3 MiB so far)\n",
      "22/01/24 11:21:15 WARN BlockManager: Persisting block rdd_415_3 to disk instead.\n",
      "22/01/24 11:21:15 WARN MemoryStore: Not enough space to cache rdd_415_2 in memory! (computed 92.3 MiB so far)\n",
      "22/01/24 11:21:16 WARN BlockManager: Persisting block rdd_415_2 to disk instead.\n",
      "22/01/24 11:21:18 WARN MemoryStore: Not enough space to cache rdd_415_0 in memory! (computed 61.3 MiB so far)\n",
      "22/01/24 11:21:18 WARN MemoryStore: Not enough space to cache rdd_415_1 in memory! (computed 92.3 MiB so far)\n",
      "22/01/24 11:21:18 WARN MemoryStore: Not enough space to cache rdd_415_2 in memory! (computed 92.3 MiB so far)\n",
      "22/01/24 11:21:18 WARN MemoryStore: Not enough space to cache rdd_415_3 in memory! (computed 92.3 MiB so far)\n",
      "22/01/24 11:21:20 WARN MemoryStore: Not enough space to cache rdd_415_4 in memory! (computed 322.1 MiB so far)\n",
      "22/01/24 11:21:22 WARN DAGScheduler: Broadcasting large task binary with size 3.9 MiB\n",
      "22/01/24 11:21:22 WARN MemoryStore: Not enough space to cache rdd_415_3 in memory! (computed 61.3 MiB so far)\n",
      "22/01/24 11:21:22 WARN MemoryStore: Not enough space to cache rdd_415_4 in memory! (computed 61.3 MiB so far)\n",
      "22/01/24 11:21:22 WARN MemoryStore: Not enough space to cache rdd_415_2 in memory! (computed 61.3 MiB so far)\n",
      "22/01/24 11:21:22 WARN MemoryStore: Not enough space to cache rdd_415_0 in memory! (computed 61.3 MiB so far)\n",
      "22/01/24 11:21:23 WARN MemoryStore: Not enough space to cache rdd_415_1 in memory! (computed 322.1 MiB so far)\n",
      "22/01/24 11:21:24 WARN DAGScheduler: Broadcasting large task binary with size 3.9 MiB\n",
      "22/01/24 11:21:25 WARN MemoryStore: Not enough space to cache rdd_415_1 in memory! (computed 61.3 MiB so far)\n",
      "22/01/24 11:21:25 WARN MemoryStore: Not enough space to cache rdd_415_4 in memory! (computed 61.3 MiB so far)\n",
      "22/01/24 11:21:25 WARN MemoryStore: Not enough space to cache rdd_415_3 in memory! (computed 61.3 MiB so far)\n",
      "22/01/24 11:21:25 WARN MemoryStore: Not enough space to cache rdd_415_2 in memory! (computed 61.3 MiB so far)\n",
      "22/01/24 11:21:25 WARN MemoryStore: Not enough space to cache rdd_415_0 in memory! (computed 92.3 MiB so far)\n",
      "22/01/24 11:21:27 WARN DAGScheduler: Broadcasting large task binary with size 3.9 MiB\n",
      "22/01/24 11:21:28 WARN MemoryStore: Not enough space to cache rdd_415_0 in memory! (computed 61.3 MiB so far)\n",
      "22/01/24 11:21:28 WARN MemoryStore: Not enough space to cache rdd_415_4 in memory! (computed 61.3 MiB so far)\n",
      "22/01/24 11:21:28 WARN MemoryStore: Not enough space to cache rdd_415_1 in memory! (computed 61.3 MiB so far)\n",
      "22/01/24 11:21:28 WARN MemoryStore: Not enough space to cache rdd_415_2 in memory! (computed 61.3 MiB so far)\n",
      "22/01/24 11:21:28 WARN MemoryStore: Not enough space to cache rdd_415_3 in memory! (computed 92.3 MiB so far)\n",
      "22/01/24 11:21:30 WARN DAGScheduler: Broadcasting large task binary with size 3.9 MiB\n",
      "22/01/24 11:21:31 WARN MemoryStore: Not enough space to cache rdd_415_1 in memory! (computed 61.3 MiB so far)\n",
      "22/01/24 11:21:31 WARN MemoryStore: Not enough space to cache rdd_415_0 in memory! (computed 61.3 MiB so far)\n",
      "22/01/24 11:21:31 WARN MemoryStore: Not enough space to cache rdd_415_2 in memory! (computed 61.3 MiB so far)\n",
      "22/01/24 11:21:31 WARN MemoryStore: Not enough space to cache rdd_415_3 in memory! (computed 61.3 MiB so far)\n",
      "22/01/24 11:21:31 WARN MemoryStore: Not enough space to cache rdd_415_4 in memory! (computed 92.3 MiB so far)\n",
      "                                                                                \r"
     ]
    }
   ],
   "source": [
    "# Train data\n",
    "t0 = time()\n",
    "predictor_4 = tree.fit(training)\n",
    "t1 = round(time() - t0,4)"
   ]
  },
  {
   "cell_type": "code",
   "execution_count": 52,
   "id": "a54eb7b8",
   "metadata": {
    "colab": {
     "base_uri": "https://localhost:8080/"
    },
    "executionInfo": {
     "elapsed": 571,
     "status": "ok",
     "timestamp": 1642995799352,
     "user": {
      "displayName": "Phuong Dam",
      "photoUrl": "https://lh3.googleusercontent.com/a/default-user=s64",
      "userId": "01072403895711103873"
     },
     "user_tz": -420
    },
    "id": "a54eb7b8",
    "outputId": "1d55473c-9893-41c7-fcef-5625abf423c4"
   },
   "outputs": [
    {
     "name": "stderr",
     "output_type": "stream",
     "text": [
      "22/01/24 11:21:35 WARN DAGScheduler: Broadcasting large task binary with size 3.1 MiB\n"
     ]
    },
    {
     "name": "stdout",
     "output_type": "stream",
     "text": [
      "+-----+--------------------+--------------------+--------------------+----------+\n",
      "|label|            features|       rawPrediction|         probability|prediction|\n",
      "+-----+--------------------+--------------------+--------------------+----------+\n",
      "|  0.0|(38354,[0,1,2,3,4...|[3698.0,879.0,297...|[0.73343911146370...|       0.0|\n",
      "|  0.0|(38354,[0,1,2,4,5...|[3698.0,879.0,297...|[0.73343911146370...|       0.0|\n",
      "|  0.0|(38354,[0,1,2,4,5...|[3698.0,879.0,297...|[0.73343911146370...|       0.0|\n",
      "+-----+--------------------+--------------------+--------------------+----------+\n",
      "only showing top 3 rows\n",
      "\n"
     ]
    }
   ],
   "source": [
    "# Predict test \n",
    "test_result_4 = predictor_4.transform(testing)\n",
    "test_result_4.show(3)"
   ]
  },
  {
   "cell_type": "code",
   "execution_count": 53,
   "id": "c9813fcd",
   "metadata": {
    "colab": {
     "base_uri": "https://localhost:8080/"
    },
    "executionInfo": {
     "elapsed": 26697,
     "status": "ok",
     "timestamp": 1642995826044,
     "user": {
      "displayName": "Phuong Dam",
      "photoUrl": "https://lh3.googleusercontent.com/a/default-user=s64",
      "userId": "01072403895711103873"
     },
     "user_tz": -420
    },
    "id": "c9813fcd",
    "outputId": "16fd793c-4ad4-43f0-c928-8e7c75e1b12a"
   },
   "outputs": [
    {
     "name": "stderr",
     "output_type": "stream",
     "text": [
      "22/01/24 11:21:36 WARN DAGScheduler: Broadcasting large task binary with size 3.1 MiB\n",
      "[Stage 234:>                                                        (0 + 5) / 5]\r"
     ]
    },
    {
     "name": "stdout",
     "output_type": "stream",
     "text": [
      "+-----+----------+-----+\n",
      "|label|prediction|count|\n",
      "+-----+----------+-----+\n",
      "|  2.0|       0.0|  451|\n",
      "|  1.0|       1.0|    4|\n",
      "|  3.0|       2.0|   60|\n",
      "|  4.0|       2.0|   26|\n",
      "|  1.0|       0.0|  903|\n",
      "|  2.0|       2.0|   79|\n",
      "|  2.0|       3.0|    4|\n",
      "|  1.0|       2.0|   45|\n",
      "|  0.0|       0.0| 2369|\n",
      "|  0.0|       2.0|   51|\n",
      "|  4.0|       0.0|  150|\n",
      "|  3.0|       0.0|  250|\n",
      "|  4.0|       1.0|    1|\n",
      "|  0.0|       1.0|    3|\n",
      "|  3.0|       1.0|    3|\n",
      "|  2.0|       1.0|    3|\n",
      "|  3.0|       3.0|    2|\n",
      "|  1.0|       3.0|    1|\n",
      "|  4.0|       3.0|    1|\n",
      "+-----+----------+-----+\n",
      "\n"
     ]
    },
    {
     "name": "stderr",
     "output_type": "stream",
     "text": [
      "22/01/24 11:21:37 WARN DAGScheduler: Broadcasting large task binary with size 3.1 MiB\n",
      "\r",
      "                                                                                \r"
     ]
    }
   ],
   "source": [
    "# Confusion matrix\n",
    "test_result_4.groupBy('label', 'prediction').count().show()"
   ]
  },
  {
   "cell_type": "code",
   "execution_count": 54,
   "id": "0666fc75",
   "metadata": {
    "executionInfo": {
     "elapsed": 132182,
     "status": "ok",
     "timestamp": 1642995958217,
     "user": {
      "displayName": "Phuong Dam",
      "photoUrl": "https://lh3.googleusercontent.com/a/default-user=s64",
      "userId": "01072403895711103873"
     },
     "user_tz": -420
    },
    "id": "0666fc75"
   },
   "outputs": [
    {
     "name": "stderr",
     "output_type": "stream",
     "text": [
      "22/01/24 11:21:38 WARN DAGScheduler: Broadcasting large task binary with size 3.1 MiB\n",
      "22/01/24 11:21:40 WARN DAGScheduler: Broadcasting large task binary with size 3.1 MiB\n",
      "22/01/24 11:21:41 WARN DAGScheduler: Broadcasting large task binary with size 3.1 MiB\n",
      "22/01/24 11:21:42 WARN DAGScheduler: Broadcasting large task binary with size 3.1 MiB\n",
      "                                                                                \r"
     ]
    }
   ],
   "source": [
    "# Evaluation\n",
    "acc_4       = round(multi_eval.evaluate(test_result_4, {multi_eval.metricName:'accuracy'}),4)\n",
    "precision_4 = round(multi_eval.evaluate(test_result_4, {multi_eval.metricName:'weightedPrecision'}),4)\n",
    "recall_4    = round(multi_eval.evaluate(test_result_4, {multi_eval.metricName:'weightedRecall'}),4)\n",
    "f1_4        = round(multi_eval.evaluate(test_result_4, {multi_eval.metricName:'f1'}),4)"
   ]
  },
  {
   "cell_type": "code",
   "execution_count": 55,
   "id": "f91c15fd",
   "metadata": {
    "colab": {
     "base_uri": "https://localhost:8080/"
    },
    "executionInfo": {
     "elapsed": 590,
     "status": "ok",
     "timestamp": 1642995958796,
     "user": {
      "displayName": "Phuong Dam",
      "photoUrl": "https://lh3.googleusercontent.com/a/default-user=s64",
      "userId": "01072403895711103873"
     },
     "user_tz": -420
    },
    "id": "f91c15fd",
    "outputId": "707033ba-8fc6-45d4-a889-7dab6519f7f0"
   },
   "outputs": [
    {
     "name": "stdout",
     "output_type": "stream",
     "text": [
      "+-------------------+--------+---------+------+--------+--------+\n",
      "|              Model|Accuracy|Precision|Recall|F1 Score|Duration|\n",
      "+-------------------+--------+---------+------+--------+--------+\n",
      "|        Naive Bayes|  0.5245|   0.5806|0.5245|  0.5464|  3.9727|\n",
      "|Logistic Regression|  0.5275|    0.549|0.5275|  0.5368|   9.427|\n",
      "|      Random Forest|  0.5499|   0.3024|0.5499|  0.3902| 71.8243|\n",
      "|      Decision Tree|   0.557|   0.4325| 0.557|  0.4248| 28.5125|\n",
      "+-------------------+--------+---------+------+--------+--------+\n",
      "\n"
     ]
    }
   ],
   "source": [
    "# Show result\n",
    "result_4 = spark.createDataFrame([('Decision Tree',acc_4, precision_4, recall_4, f1_4 , t1)],\n",
    "                                 result_columns)\n",
    "result = result.union(result_4)\n",
    "result.show()"
   ]
  },
  {
   "cell_type": "markdown",
   "id": "ac3b7332",
   "metadata": {
    "id": "ac3b7332"
   },
   "source": [
    "### Nhận xét:\n",
    "- Các model đều cho kết quả không tốt (Accuracy: 52~55%)\n",
    "- Như đã nói ở trên, dataset thiếu cân bằng => tiến hành resample và build model trên data mới "
   ]
  },
  {
   "cell_type": "markdown",
   "id": "cad49fe8",
   "metadata": {
    "id": "cad49fe8"
   },
   "source": [
    "# 4. Build Model - Resample data\n",
    "- Model 5 - NaiveBayes\n",
    "- Model 6 - Logistic Regression"
   ]
  },
  {
   "cell_type": "markdown",
   "id": "IJrx_FhRNz_P",
   "metadata": {
    "id": "IJrx_FhRNz_P"
   },
   "source": [
    "## --- Oversampling"
   ]
  },
  {
   "cell_type": "code",
   "execution_count": 56,
   "id": "6cd5e7d5",
   "metadata": {
    "colab": {
     "base_uri": "https://localhost:8080/"
    },
    "executionInfo": {
     "elapsed": 27179,
     "status": "ok",
     "timestamp": 1642995985969,
     "user": {
      "displayName": "Phuong Dam",
      "photoUrl": "https://lh3.googleusercontent.com/a/default-user=s64",
      "userId": "01072403895711103873"
     },
     "user_tz": -420
    },
    "id": "6cd5e7d5",
    "outputId": "0be3d9c9-98c6-49d0-b48f-8fb075cfb8ee",
    "scrolled": true
   },
   "outputs": [
    {
     "name": "stderr",
     "output_type": "stream",
     "text": [
      "22/01/24 11:21:45 WARN DAGScheduler: Broadcasting large task binary with size 3.1 MiB\n",
      "[Stage 260:>                                                        (0 + 5) / 5]\r"
     ]
    },
    {
     "name": "stdout",
     "output_type": "stream",
     "text": [
      "+-----+-----+\n",
      "|label|count|\n",
      "+-----+-----+\n",
      "|  0.0|10110|\n",
      "|  1.0| 3954|\n",
      "|  4.0|  642|\n",
      "|  3.0| 1232|\n",
      "|  2.0| 2285|\n",
      "+-----+-----+\n",
      "\n"
     ]
    },
    {
     "name": "stderr",
     "output_type": "stream",
     "text": [
      "22/01/24 11:21:46 WARN DAGScheduler: Broadcasting large task binary with size 3.1 MiB\n",
      "\r",
      "                                                                                \r"
     ]
    }
   ],
   "source": [
    "training.groupby('label').count().show()"
   ]
  },
  {
   "cell_type": "code",
   "execution_count": 57,
   "id": "ac644bef",
   "metadata": {
    "colab": {
     "base_uri": "https://localhost:8080/"
    },
    "executionInfo": {
     "elapsed": 108310,
     "status": "ok",
     "timestamp": 1642996094273,
     "user": {
      "displayName": "Phuong Dam",
      "photoUrl": "https://lh3.googleusercontent.com/a/default-user=s64",
      "userId": "01072403895711103873"
     },
     "user_tz": -420
    },
    "id": "ac644bef",
    "outputId": "6a927b04-b01d-4532-9fa5-54e1d849f385",
    "scrolled": true
   },
   "outputs": [
    {
     "name": "stderr",
     "output_type": "stream",
     "text": [
      "22/01/24 11:21:47 WARN DAGScheduler: Broadcasting large task binary with size 3.1 MiB\n",
      "22/01/24 11:21:48 WARN DAGScheduler: Broadcasting large task binary with size 3.1 MiB\n",
      "22/01/24 11:21:49 WARN DAGScheduler: Broadcasting large task binary with size 3.1 MiB\n",
      "22/01/24 11:21:51 WARN DAGScheduler: Broadcasting large task binary with size 3.1 MiB\n",
      "22/01/24 11:21:52 WARN DAGScheduler: Broadcasting large task binary with size 3.1 MiB\n",
      "22/01/24 11:21:54 WARN DAGScheduler: Broadcasting large task binary with size 3.1 MiB\n",
      "22/01/24 11:21:56 WARN DAGScheduler: Broadcasting large task binary with size 3.1 MiB\n",
      "22/01/24 11:21:57 WARN DAGScheduler: Broadcasting large task binary with size 3.1 MiB\n",
      "[Stage 308:>                                                        (0 + 5) / 5]\r"
     ]
    },
    {
     "name": "stdout",
     "output_type": "stream",
     "text": [
      "ratio label0/label1: 2\n",
      "ratio label0/label2: 4\n",
      "ratio label0/label3: 8\n",
      "ratio label0/label4: 15\n"
     ]
    },
    {
     "name": "stderr",
     "output_type": "stream",
     "text": [
      "\r",
      "                                                                                \r"
     ]
    }
   ],
   "source": [
    "label0 = training.filter(col('label')==0)\n",
    "label1 = training.filter(col('label')==1)\n",
    "label2 = training.filter(col('label')==2)\n",
    "label3 = training.filter(col('label')==3)\n",
    "label4 = training.filter(col('label')==4)\n",
    "\n",
    "ratio_01 = int(label0.count()/label1.count())\n",
    "ratio_02 = int(label0.count()/label2.count())\n",
    "ratio_03 = int(label0.count()/label3.count())\n",
    "ratio_04 = int(label0.count()/label4.count())\n",
    "\n",
    "print('ratio label0/label1: {}'.format(ratio_01))\n",
    "print('ratio label0/label2: {}'.format(ratio_02))\n",
    "print('ratio label0/label3: {}'.format(ratio_03))\n",
    "print('ratio label0/label4: {}'.format(ratio_04))"
   ]
  },
  {
   "cell_type": "code",
   "execution_count": 58,
   "id": "26ff14ad",
   "metadata": {
    "executionInfo": {
     "elapsed": 10,
     "status": "ok",
     "timestamp": 1642996094274,
     "user": {
      "displayName": "Phuong Dam",
      "photoUrl": "https://lh3.googleusercontent.com/a/default-user=s64",
      "userId": "01072403895711103873"
     },
     "user_tz": -420
    },
    "id": "26ff14ad"
   },
   "outputs": [],
   "source": [
    "# resample label==1\n",
    "a1 = range(ratio_01)\n",
    "oversampled_label1 = label1.withColumn('dummy',explode(array([lit(x) for x in a1]))).drop('dummy')"
   ]
  },
  {
   "cell_type": "code",
   "execution_count": 59,
   "id": "032c4054",
   "metadata": {
    "executionInfo": {
     "elapsed": 8,
     "status": "ok",
     "timestamp": 1642996094275,
     "user": {
      "displayName": "Phuong Dam",
      "photoUrl": "https://lh3.googleusercontent.com/a/default-user=s64",
      "userId": "01072403895711103873"
     },
     "user_tz": -420
    },
    "id": "032c4054"
   },
   "outputs": [],
   "source": [
    "# resample label==2\n",
    "a2 = range(ratio_02)\n",
    "oversampled_label2 = label2.withColumn('dummy',explode(array([lit(x) for x in a2]))).drop('dummy')"
   ]
  },
  {
   "cell_type": "code",
   "execution_count": 60,
   "id": "086442db",
   "metadata": {
    "executionInfo": {
     "elapsed": 7,
     "status": "ok",
     "timestamp": 1642996094275,
     "user": {
      "displayName": "Phuong Dam",
      "photoUrl": "https://lh3.googleusercontent.com/a/default-user=s64",
      "userId": "01072403895711103873"
     },
     "user_tz": -420
    },
    "id": "086442db"
   },
   "outputs": [],
   "source": [
    "# resample label==3\n",
    "a3 = range(ratio_03)\n",
    "oversampled_label3 = label3.withColumn('dummy',explode(array([lit(x) for x in a3]))).drop('dummy')"
   ]
  },
  {
   "cell_type": "code",
   "execution_count": 61,
   "id": "162667d0",
   "metadata": {
    "executionInfo": {
     "elapsed": 11,
     "status": "ok",
     "timestamp": 1642996094844,
     "user": {
      "displayName": "Phuong Dam",
      "photoUrl": "https://lh3.googleusercontent.com/a/default-user=s64",
      "userId": "01072403895711103873"
     },
     "user_tz": -420
    },
    "id": "162667d0"
   },
   "outputs": [],
   "source": [
    "# resample label==4\n",
    "a4 = range(ratio_04)\n",
    "oversampled_label4 = label4.withColumn('dummy',explode(array([lit(x) for x in a4]))).drop('dummy')"
   ]
  },
  {
   "cell_type": "code",
   "execution_count": 62,
   "id": "26bbdae3",
   "metadata": {
    "colab": {
     "base_uri": "https://localhost:8080/"
    },
    "executionInfo": {
     "elapsed": 83824,
     "status": "ok",
     "timestamp": 1642996178661,
     "user": {
      "displayName": "Phuong Dam",
      "photoUrl": "https://lh3.googleusercontent.com/a/default-user=s64",
      "userId": "01072403895711103873"
     },
     "user_tz": -420
    },
    "id": "26bbdae3",
    "outputId": "30080a61-ca8b-4efa-be0d-419c2e724c8d",
    "scrolled": true
   },
   "outputs": [
    {
     "name": "stderr",
     "output_type": "stream",
     "text": [
      "22/01/24 11:21:59 WARN DAGScheduler: Broadcasting large task binary with size 3.2 MiB\n",
      "[Stage 314:=====================================================> (39 + 1) / 40]\r"
     ]
    },
    {
     "name": "stdout",
     "output_type": "stream",
     "text": [
      "+-----+-----+\n",
      "|label|count|\n",
      "+-----+-----+\n",
      "|  0.0|10106|\n",
      "|  1.0| 7898|\n",
      "|  2.0| 9092|\n",
      "|  3.0| 9984|\n",
      "|  4.0|10005|\n",
      "+-----+-----+\n",
      "\n"
     ]
    },
    {
     "name": "stderr",
     "output_type": "stream",
     "text": [
      "22/01/24 11:22:04 WARN DAGScheduler: Broadcasting large task binary with size 3.1 MiB\n",
      "\r",
      "                                                                                \r"
     ]
    }
   ],
   "source": [
    "combined_df = label0.unionAll(oversampled_label1).unionAll(oversampled_label2).\\\n",
    "                     unionAll(oversampled_label3).unionAll(oversampled_label4)\n",
    "combined_df.groupBy('label').count().show()"
   ]
  },
  {
   "cell_type": "markdown",
   "id": "I6yomGVzN7zY",
   "metadata": {
    "id": "I6yomGVzN7zY"
   },
   "source": [
    "## --- NaiveBayes & Resample data"
   ]
  },
  {
   "cell_type": "code",
   "execution_count": 63,
   "id": "0060e518",
   "metadata": {
    "executionInfo": {
     "elapsed": 130935,
     "status": "ok",
     "timestamp": 1642996309591,
     "user": {
      "displayName": "Phuong Dam",
      "photoUrl": "https://lh3.googleusercontent.com/a/default-user=s64",
      "userId": "01072403895711103873"
     },
     "user_tz": -420
    },
    "id": "0060e518"
   },
   "outputs": [
    {
     "name": "stderr",
     "output_type": "stream",
     "text": [
      "22/01/24 11:22:08 WARN DAGScheduler: Broadcasting large task binary with size 3.3 MiB\n",
      "22/01/24 11:22:12 WARN DAGScheduler: Broadcasting large task binary with size 3.1 MiB\n",
      "                                                                                \r"
     ]
    }
   ],
   "source": [
    "# Train data\n",
    "t0 = time()\n",
    "predictor_5 = nb.fit(combined_df)\n",
    "t1 = round(time() - t0,4)"
   ]
  },
  {
   "cell_type": "code",
   "execution_count": 64,
   "id": "fdfdf626",
   "metadata": {
    "colab": {
     "base_uri": "https://localhost:8080/"
    },
    "executionInfo": {
     "elapsed": 595,
     "status": "ok",
     "timestamp": 1642996310176,
     "user": {
      "displayName": "Phuong Dam",
      "photoUrl": "https://lh3.googleusercontent.com/a/default-user=s64",
      "userId": "01072403895711103873"
     },
     "user_tz": -420
    },
    "id": "fdfdf626",
    "outputId": "6e86e7c8-4915-4a3f-f872-97eef64aacaa"
   },
   "outputs": [
    {
     "name": "stderr",
     "output_type": "stream",
     "text": [
      "22/01/24 11:22:14 WARN DAGScheduler: Broadcasting large task binary with size 4.6 MiB\n"
     ]
    },
    {
     "name": "stdout",
     "output_type": "stream",
     "text": [
      "+-----+--------------------+--------------------+--------------------+----------+\n",
      "|label|            features|       rawPrediction|         probability|prediction|\n",
      "+-----+--------------------+--------------------+--------------------+----------+\n",
      "|  0.0|(38354,[0,1,2,3,4...|[-1468.1016283134...|[1.0,4.8476976375...|       0.0|\n",
      "|  0.0|(38354,[0,1,2,4,5...|[-1192.9534841717...|[0.99979332103364...|       0.0|\n",
      "|  0.0|(38354,[0,1,2,4,5...|[-1749.5744833291...|[0.99999999986717...|       0.0|\n",
      "+-----+--------------------+--------------------+--------------------+----------+\n",
      "only showing top 3 rows\n",
      "\n"
     ]
    }
   ],
   "source": [
    "# Predict test \n",
    "test_result_5 = predictor_5.transform(testing)\n",
    "test_result_5.show(3)"
   ]
  },
  {
   "cell_type": "code",
   "execution_count": 65,
   "id": "421ea34a",
   "metadata": {
    "colab": {
     "base_uri": "https://localhost:8080/"
    },
    "executionInfo": {
     "elapsed": 27451,
     "status": "ok",
     "timestamp": 1642996337620,
     "user": {
      "displayName": "Phuong Dam",
      "photoUrl": "https://lh3.googleusercontent.com/a/default-user=s64",
      "userId": "01072403895711103873"
     },
     "user_tz": -420
    },
    "id": "421ea34a",
    "outputId": "918b62e7-9415-4c36-a284-7d17676ddf1b"
   },
   "outputs": [
    {
     "name": "stderr",
     "output_type": "stream",
     "text": [
      "22/01/24 11:22:14 WARN DAGScheduler: Broadcasting large task binary with size 4.6 MiB\n",
      "[Stage 330:=============================================>           (4 + 1) / 5]\r"
     ]
    },
    {
     "name": "stdout",
     "output_type": "stream",
     "text": [
      "+-----+----------+-----+\n",
      "|label|prediction|count|\n",
      "+-----+----------+-----+\n",
      "|  2.0|       0.0|   25|\n",
      "|  1.0|       1.0|  733|\n",
      "|  3.0|       2.0|   24|\n",
      "|  4.0|       2.0|    5|\n",
      "|  0.0|       1.0|  186|\n",
      "|  1.0|       0.0|  140|\n",
      "|  2.0|       2.0|  458|\n",
      "|  3.0|       1.0|   18|\n",
      "|  2.0|       3.0|   20|\n",
      "|  1.0|       4.0|    8|\n",
      "|  4.0|       4.0|  156|\n",
      "|  2.0|       4.0|    9|\n",
      "|  2.0|       1.0|   25|\n",
      "|  1.0|       2.0|   55|\n",
      "|  0.0|       0.0| 2148|\n",
      "|  1.0|       3.0|   17|\n",
      "|  4.0|       3.0|    8|\n",
      "|  0.0|       2.0|   53|\n",
      "|  3.0|       3.0|  249|\n",
      "|  0.0|       3.0|   25|\n",
      "+-----+----------+-----+\n",
      "only showing top 20 rows\n",
      "\n"
     ]
    },
    {
     "name": "stderr",
     "output_type": "stream",
     "text": [
      "22/01/24 11:22:16 WARN DAGScheduler: Broadcasting large task binary with size 4.6 MiB\n",
      "\r",
      "                                                                                \r"
     ]
    }
   ],
   "source": [
    "# Confusion matrix\n",
    "test_result_5.groupBy('label', 'prediction').count().show()"
   ]
  },
  {
   "cell_type": "code",
   "execution_count": 66,
   "id": "dd5d380a",
   "metadata": {
    "executionInfo": {
     "elapsed": 142876,
     "status": "ok",
     "timestamp": 1642996480486,
     "user": {
      "displayName": "Phuong Dam",
      "photoUrl": "https://lh3.googleusercontent.com/a/default-user=s64",
      "userId": "01072403895711103873"
     },
     "user_tz": -420
    },
    "id": "dd5d380a"
   },
   "outputs": [
    {
     "name": "stderr",
     "output_type": "stream",
     "text": [
      "22/01/24 11:22:16 WARN DAGScheduler: Broadcasting large task binary with size 4.6 MiB\n",
      "22/01/24 11:22:18 WARN DAGScheduler: Broadcasting large task binary with size 4.6 MiB\n",
      "22/01/24 11:22:19 WARN DAGScheduler: Broadcasting large task binary with size 4.6 MiB\n",
      "22/01/24 11:22:20 WARN DAGScheduler: Broadcasting large task binary with size 4.6 MiB\n",
      "                                                                                \r"
     ]
    }
   ],
   "source": [
    "# Evaluation\n",
    "acc_5       = round(multi_eval.evaluate(test_result_5, {multi_eval.metricName:'accuracy'}),4)\n",
    "precision_5 = round(multi_eval.evaluate(test_result_5, {multi_eval.metricName:'weightedPrecision'}),4)\n",
    "recall_5    = round(multi_eval.evaluate(test_result_5, {multi_eval.metricName:'weightedRecall'}),4)\n",
    "f1_5       = round(multi_eval.evaluate(test_result_5, {multi_eval.metricName:'f1'}),4)"
   ]
  },
  {
   "cell_type": "code",
   "execution_count": 67,
   "id": "934910f0",
   "metadata": {
    "colab": {
     "base_uri": "https://localhost:8080/"
    },
    "executionInfo": {
     "elapsed": 558,
     "status": "ok",
     "timestamp": 1642996481037,
     "user": {
      "displayName": "Phuong Dam",
      "photoUrl": "https://lh3.googleusercontent.com/a/default-user=s64",
      "userId": "01072403895711103873"
     },
     "user_tz": -420
    },
    "id": "934910f0",
    "outputId": "3727248c-7d35-475b-d6aa-3ce95a05ca29"
   },
   "outputs": [
    {
     "name": "stdout",
     "output_type": "stream",
     "text": [
      "+-------------------+--------+---------+------+--------+--------+\n",
      "|              Model|Accuracy|Precision|Recall|F1 Score|Duration|\n",
      "+-------------------+--------+---------+------+--------+--------+\n",
      "|        Naive Bayes|  0.5245|   0.5806|0.5245|  0.5464|  3.9727|\n",
      "|Logistic Regression|  0.5275|    0.549|0.5275|  0.5368|   9.427|\n",
      "|      Random Forest|  0.5499|   0.3024|0.5499|  0.3902| 71.8243|\n",
      "|      Decision Tree|   0.557|   0.4325| 0.557|  0.4248| 28.5125|\n",
      "|        NB resample|  0.8498|   0.8529|0.8498|  0.8508|  8.3558|\n",
      "+-------------------+--------+---------+------+--------+--------+\n",
      "\n"
     ]
    }
   ],
   "source": [
    "# Show result\n",
    "result_columns = ['Model','Accuracy','Precision','Recall','F1 Score','Duration']\n",
    "result_5 = spark.createDataFrame([('NB resample',acc_5, precision_5, recall_5, f1_5 , t1)],\n",
    "                                 result_columns)\n",
    "result = result.union(result_5)\n",
    "result.show()"
   ]
  },
  {
   "cell_type": "markdown",
   "id": "y7qmF5svOEMj",
   "metadata": {
    "id": "y7qmF5svOEMj"
   },
   "source": [
    "## --- Logistic Regression & Resample data"
   ]
  },
  {
   "cell_type": "code",
   "execution_count": 68,
   "id": "9a308b4f",
   "metadata": {
    "executionInfo": {
     "elapsed": 774818,
     "status": "ok",
     "timestamp": 1642997255853,
     "user": {
      "displayName": "Phuong Dam",
      "photoUrl": "https://lh3.googleusercontent.com/a/default-user=s64",
      "userId": "01072403895711103873"
     },
     "user_tz": -420
    },
    "id": "9a308b4f"
   },
   "outputs": [
    {
     "name": "stderr",
     "output_type": "stream",
     "text": [
      "22/01/24 11:22:24 WARN DAGScheduler: Broadcasting large task binary with size 3.3 MiB\n",
      "22/01/24 11:22:28 WARN DAGScheduler: Broadcasting large task binary with size 3.3 MiB\n",
      "22/01/24 11:22:29 WARN DAGScheduler: Broadcasting large task binary with size 3.3 MiB\n",
      "22/01/24 11:22:33 WARN DAGScheduler: Broadcasting large task binary with size 3.3 MiB\n",
      "22/01/24 11:22:33 WARN DAGScheduler: Broadcasting large task binary with size 3.3 MiB\n",
      "22/01/24 11:22:35 WARN DAGScheduler: Broadcasting large task binary with size 3.3 MiB\n",
      "22/01/24 11:22:36 WARN DAGScheduler: Broadcasting large task binary with size 3.3 MiB\n",
      "22/01/24 11:22:38 WARN DAGScheduler: Broadcasting large task binary with size 3.3 MiB\n",
      "22/01/24 11:22:38 WARN DAGScheduler: Broadcasting large task binary with size 3.3 MiB\n",
      "22/01/24 11:22:40 WARN DAGScheduler: Broadcasting large task binary with size 3.3 MiB\n",
      "22/01/24 11:22:41 WARN DAGScheduler: Broadcasting large task binary with size 3.3 MiB\n",
      "22/01/24 11:22:43 WARN DAGScheduler: Broadcasting large task binary with size 3.3 MiB\n",
      "22/01/24 11:22:43 WARN DAGScheduler: Broadcasting large task binary with size 3.3 MiB\n",
      "22/01/24 11:22:45 WARN DAGScheduler: Broadcasting large task binary with size 3.3 MiB\n",
      "22/01/24 11:22:46 WARN DAGScheduler: Broadcasting large task binary with size 3.3 MiB\n",
      "22/01/24 11:22:47 WARN DAGScheduler: Broadcasting large task binary with size 3.3 MiB\n",
      "22/01/24 11:22:48 WARN DAGScheduler: Broadcasting large task binary with size 3.3 MiB\n",
      "22/01/24 11:22:50 WARN DAGScheduler: Broadcasting large task binary with size 3.3 MiB\n",
      "22/01/24 11:22:50 WARN DAGScheduler: Broadcasting large task binary with size 3.3 MiB\n",
      "22/01/24 11:22:52 WARN DAGScheduler: Broadcasting large task binary with size 3.3 MiB\n",
      "22/01/24 11:22:53 WARN DAGScheduler: Broadcasting large task binary with size 3.3 MiB\n",
      "22/01/24 11:22:54 WARN DAGScheduler: Broadcasting large task binary with size 3.3 MiB\n",
      "22/01/24 11:22:55 WARN DAGScheduler: Broadcasting large task binary with size 3.3 MiB\n",
      "22/01/24 11:22:57 WARN DAGScheduler: Broadcasting large task binary with size 3.3 MiB\n",
      "                                                                                \r"
     ]
    }
   ],
   "source": [
    "# Train data\n",
    "t0 = time()\n",
    "predictor_6 = lg.fit(combined_df)\n",
    "t1 = round(time() - t0,4)"
   ]
  },
  {
   "cell_type": "code",
   "execution_count": 69,
   "id": "7be65126",
   "metadata": {
    "colab": {
     "base_uri": "https://localhost:8080/"
    },
    "executionInfo": {
     "elapsed": 17,
     "status": "ok",
     "timestamp": 1642997255855,
     "user": {
      "displayName": "Phuong Dam",
      "photoUrl": "https://lh3.googleusercontent.com/a/default-user=s64",
      "userId": "01072403895711103873"
     },
     "user_tz": -420
    },
    "id": "7be65126",
    "outputId": "7403cdce-72c7-41a0-e077-77216fd7fa05"
   },
   "outputs": [
    {
     "name": "stderr",
     "output_type": "stream",
     "text": [
      "22/01/24 11:23:00 WARN DAGScheduler: Broadcasting large task binary with size 4.6 MiB\n"
     ]
    },
    {
     "name": "stdout",
     "output_type": "stream",
     "text": [
      "+-----+--------------------+--------------------+--------------------+----------+\n",
      "|label|            features|       rawPrediction|         probability|prediction|\n",
      "+-----+--------------------+--------------------+--------------------+----------+\n",
      "|  0.0|(38354,[0,1,2,3,4...|[10.9474641219806...|[0.99963677759057...|       0.0|\n",
      "|  0.0|(38354,[0,1,2,4,5...|[7.59509168354888...|[0.40733282120097...|       1.0|\n",
      "|  0.0|(38354,[0,1,2,4,5...|[12.1003545826426...|[0.99996459177030...|       0.0|\n",
      "+-----+--------------------+--------------------+--------------------+----------+\n",
      "only showing top 3 rows\n",
      "\n"
     ]
    }
   ],
   "source": [
    "# Predict test \n",
    "test_result_6 = predictor_6.transform(testing)\n",
    "test_result_6.show(3)"
   ]
  },
  {
   "cell_type": "code",
   "execution_count": 70,
   "id": "53b9a55e",
   "metadata": {
    "colab": {
     "base_uri": "https://localhost:8080/"
    },
    "executionInfo": {
     "elapsed": 26123,
     "status": "ok",
     "timestamp": 1642997281969,
     "user": {
      "displayName": "Phuong Dam",
      "photoUrl": "https://lh3.googleusercontent.com/a/default-user=s64",
      "userId": "01072403895711103873"
     },
     "user_tz": -420
    },
    "id": "53b9a55e",
    "outputId": "1bb13e03-af4f-48e4-ebba-b866b09c88f6"
   },
   "outputs": [
    {
     "name": "stderr",
     "output_type": "stream",
     "text": [
      "22/01/24 11:23:01 WARN DAGScheduler: Broadcasting large task binary with size 4.6 MiB\n",
      "[Stage 398:>                                                        (0 + 5) / 5]\r"
     ]
    },
    {
     "name": "stdout",
     "output_type": "stream",
     "text": [
      "+-----+----------+-----+\n",
      "|label|prediction|count|\n",
      "+-----+----------+-----+\n",
      "|  2.0|       0.0|   25|\n",
      "|  1.0|       1.0|  827|\n",
      "|  3.0|       2.0|   17|\n",
      "|  0.0|       1.0|   99|\n",
      "|  1.0|       0.0|   76|\n",
      "|  2.0|       2.0|  471|\n",
      "|  2.0|       3.0|   15|\n",
      "|  4.0|       4.0|  163|\n",
      "|  2.0|       4.0|    5|\n",
      "|  2.0|       1.0|   21|\n",
      "|  1.0|       2.0|   38|\n",
      "|  0.0|       0.0| 2291|\n",
      "|  1.0|       3.0|   10|\n",
      "|  4.0|       3.0|    7|\n",
      "|  0.0|       2.0|   21|\n",
      "|  3.0|       3.0|  269|\n",
      "|  0.0|       3.0|    6|\n",
      "|  3.0|       0.0|   12|\n",
      "|  0.0|       4.0|    6|\n",
      "|  3.0|       1.0|   11|\n",
      "+-----+----------+-----+\n",
      "only showing top 20 rows\n",
      "\n"
     ]
    },
    {
     "name": "stderr",
     "output_type": "stream",
     "text": [
      "22/01/24 11:23:02 WARN DAGScheduler: Broadcasting large task binary with size 4.6 MiB\n",
      "\r",
      "                                                                                \r"
     ]
    }
   ],
   "source": [
    "# Confusion matrix\n",
    "test_result_6.groupBy('label', 'prediction').count().show()"
   ]
  },
  {
   "cell_type": "code",
   "execution_count": 71,
   "id": "711623db",
   "metadata": {
    "executionInfo": {
     "elapsed": 137829,
     "status": "ok",
     "timestamp": 1642997419791,
     "user": {
      "displayName": "Phuong Dam",
      "photoUrl": "https://lh3.googleusercontent.com/a/default-user=s64",
      "userId": "01072403895711103873"
     },
     "user_tz": -420
    },
    "id": "711623db"
   },
   "outputs": [
    {
     "name": "stderr",
     "output_type": "stream",
     "text": [
      "22/01/24 11:23:03 WARN DAGScheduler: Broadcasting large task binary with size 4.6 MiB\n",
      "22/01/24 11:23:05 WARN DAGScheduler: Broadcasting large task binary with size 4.6 MiB\n",
      "22/01/24 11:23:06 WARN DAGScheduler: Broadcasting large task binary with size 4.6 MiB\n",
      "22/01/24 11:23:07 WARN DAGScheduler: Broadcasting large task binary with size 4.6 MiB\n",
      "                                                                                \r"
     ]
    }
   ],
   "source": [
    "# Evaluation\n",
    "acc_6       = round(multi_eval.evaluate(test_result_6, {multi_eval.metricName:'accuracy'}),4)\n",
    "precision_6 = round(multi_eval.evaluate(test_result_6, {multi_eval.metricName:'weightedPrecision'}),4)\n",
    "recall_6    = round(multi_eval.evaluate(test_result_6, {multi_eval.metricName:'weightedRecall'}),4)\n",
    "f1_6        = round(multi_eval.evaluate(test_result_6, {multi_eval.metricName:'f1'}),4)\n"
   ]
  },
  {
   "cell_type": "code",
   "execution_count": 72,
   "id": "df1c9dce",
   "metadata": {
    "colab": {
     "base_uri": "https://localhost:8080/"
    },
    "executionInfo": {
     "elapsed": 1333,
     "status": "ok",
     "timestamp": 1642997421114,
     "user": {
      "displayName": "Phuong Dam",
      "photoUrl": "https://lh3.googleusercontent.com/a/default-user=s64",
      "userId": "01072403895711103873"
     },
     "user_tz": -420
    },
    "id": "df1c9dce",
    "outputId": "e46e6558-562b-47ee-82b5-339111a2acee"
   },
   "outputs": [
    {
     "name": "stdout",
     "output_type": "stream",
     "text": [
      "+-------------------+--------+---------+------+--------+--------+\n",
      "|              Model|Accuracy|Precision|Recall|F1 Score|Duration|\n",
      "+-------------------+--------+---------+------+--------+--------+\n",
      "|        Naive Bayes|  0.5245|   0.5806|0.5245|  0.5464|  3.9727|\n",
      "|Logistic Regression|  0.5275|    0.549|0.5275|  0.5368|   9.427|\n",
      "|      Random Forest|  0.5499|   0.3024|0.5499|  0.3902| 71.8243|\n",
      "|      Decision Tree|   0.557|   0.4325| 0.557|  0.4248| 28.5125|\n",
      "|        NB resample|  0.8498|   0.8529|0.8498|  0.8508|  8.3558|\n",
      "|     Logit resample|  0.9126|    0.913|0.9126|  0.9128| 37.0791|\n",
      "+-------------------+--------+---------+------+--------+--------+\n",
      "\n"
     ]
    }
   ],
   "source": [
    "# Show result\n",
    "result_6 = spark.createDataFrame([('Logit resample',acc_6, precision_6, recall_6, f1_6 , t1)],\n",
    "                                 result_columns)\n",
    "result = result.union(result_6)\n",
    "result.show()"
   ]
  },
  {
   "cell_type": "markdown",
   "id": "f2a93b60",
   "metadata": {
    "id": "f2a93b60"
   },
   "source": [
    "### Nhận xét:\n",
    "- Có thể nhận thấy model với resampled data cho kết quả tốt hơn rất nhiều.\n",
    "- Trong đó model xây dựng dựa trên thuật toán Logistic Regression cho kết quả khá tốt với các metrics đều >91% => phù hợp nhất với tập dữ liệu\n",
    "- => Kết luận: Chọn model Logit resample"
   ]
  },
  {
   "cell_type": "markdown",
   "id": "8e89e2e5",
   "metadata": {
    "id": "8e89e2e5"
   },
   "source": [
    "# 5. New Prediction\n",
    "Please predict ratings for products in Womens_Clothing_E_Commerce_Reviews.xlsx, sheetName: new_reviews."
   ]
  },
  {
   "cell_type": "code",
   "execution_count": 73,
   "id": "d3e95495",
   "metadata": {
    "executionInfo": {
     "elapsed": 1640,
     "status": "ok",
     "timestamp": 1642997422748,
     "user": {
      "displayName": "Phuong Dam",
      "photoUrl": "https://lh3.googleusercontent.com/a/default-user=s64",
      "userId": "01072403895711103873"
     },
     "user_tz": -420
    },
    "id": "d3e95495"
   },
   "outputs": [],
   "source": [
    "# Read excel file using pandas\n",
    "df_new = pd.read_excel('data/womens-ecommerce-clothing-reviews/Womens_Clothing_E_Commerce_Reviews.xlsx', sheet_name='new_reviews', index_col=0)"
   ]
  },
  {
   "cell_type": "code",
   "execution_count": 74,
   "id": "399c037e",
   "metadata": {
    "colab": {
     "base_uri": "https://localhost:8080/",
     "height": 206
    },
    "executionInfo": {
     "elapsed": 11,
     "status": "ok",
     "timestamp": 1642997422749,
     "user": {
      "displayName": "Phuong Dam",
      "photoUrl": "https://lh3.googleusercontent.com/a/default-user=s64",
      "userId": "01072403895711103873"
     },
     "user_tz": -420
    },
    "id": "399c037e",
    "outputId": "d28c8b24-4259-48f4-8dec-033f90b56379"
   },
   "outputs": [
    {
     "data": {
      "text/html": [
       "<div>\n",
       "<style scoped>\n",
       "    .dataframe tbody tr th:only-of-type {\n",
       "        vertical-align: middle;\n",
       "    }\n",
       "\n",
       "    .dataframe tbody tr th {\n",
       "        vertical-align: top;\n",
       "    }\n",
       "\n",
       "    .dataframe thead th {\n",
       "        text-align: right;\n",
       "    }\n",
       "</style>\n",
       "<table border=\"1\" class=\"dataframe\">\n",
       "  <thead>\n",
       "    <tr style=\"text-align: right;\">\n",
       "      <th></th>\n",
       "      <th>Clothing ID</th>\n",
       "      <th>Age</th>\n",
       "      <th>Title</th>\n",
       "      <th>Review Text</th>\n",
       "      <th>Recommended IND</th>\n",
       "      <th>Positive Feedback Count</th>\n",
       "      <th>Division Name</th>\n",
       "      <th>Department Name</th>\n",
       "      <th>Class Name</th>\n",
       "    </tr>\n",
       "  </thead>\n",
       "  <tbody>\n",
       "    <tr>\n",
       "      <th>0</th>\n",
       "      <td>1077</td>\n",
       "      <td>53</td>\n",
       "      <td>Dress looks like it's made of cheap material</td>\n",
       "      <td>Dress runs small esp where the zipper area run...</td>\n",
       "      <td>0</td>\n",
       "      <td>14</td>\n",
       "      <td>General</td>\n",
       "      <td>Dresses</td>\n",
       "      <td>Dresses</td>\n",
       "    </tr>\n",
       "    <tr>\n",
       "      <th>1</th>\n",
       "      <td>862</td>\n",
       "      <td>66</td>\n",
       "      <td>Cute top</td>\n",
       "      <td>Nice top. armholes are a bit oversized but as ...</td>\n",
       "      <td>1</td>\n",
       "      <td>2</td>\n",
       "      <td>General</td>\n",
       "      <td>Tops</td>\n",
       "      <td>Knits</td>\n",
       "    </tr>\n",
       "  </tbody>\n",
       "</table>\n",
       "</div>"
      ],
      "text/plain": [
       "   Clothing ID  Age                                         Title  \\\n",
       "0         1077   53  Dress looks like it's made of cheap material   \n",
       "1          862   66                                      Cute top   \n",
       "\n",
       "                                         Review Text  Recommended IND  \\\n",
       "0  Dress runs small esp where the zipper area run...                0   \n",
       "1  Nice top. armholes are a bit oversized but as ...                1   \n",
       "\n",
       "   Positive Feedback Count Division Name Department Name Class Name  \n",
       "0                       14       General         Dresses    Dresses  \n",
       "1                        2       General            Tops      Knits  "
      ]
     },
     "execution_count": 74,
     "metadata": {},
     "output_type": "execute_result"
    }
   ],
   "source": [
    "df_new.head(2)"
   ]
  },
  {
   "cell_type": "code",
   "execution_count": 75,
   "id": "afa6f33c",
   "metadata": {
    "colab": {
     "base_uri": "https://localhost:8080/"
    },
    "executionInfo": {
     "elapsed": 9,
     "status": "ok",
     "timestamp": 1642997422749,
     "user": {
      "displayName": "Phuong Dam",
      "photoUrl": "https://lh3.googleusercontent.com/a/default-user=s64",
      "userId": "01072403895711103873"
     },
     "user_tz": -420
    },
    "id": "afa6f33c",
    "outputId": "ef46fe80-dfc1-47ea-e991-30f287f4d9b8"
   },
   "outputs": [
    {
     "name": "stdout",
     "output_type": "stream",
     "text": [
      "<class 'pandas.core.frame.DataFrame'>\n",
      "Int64Index: 5 entries, 0 to 4\n",
      "Data columns (total 9 columns):\n",
      " #   Column                   Non-Null Count  Dtype \n",
      "---  ------                   --------------  ----- \n",
      " 0   Clothing ID              5 non-null      int64 \n",
      " 1   Age                      5 non-null      int64 \n",
      " 2   Title                    5 non-null      object\n",
      " 3   Review Text              5 non-null      object\n",
      " 4   Recommended IND          5 non-null      int64 \n",
      " 5   Positive Feedback Count  5 non-null      int64 \n",
      " 6   Division Name            5 non-null      object\n",
      " 7   Department Name          5 non-null      object\n",
      " 8   Class Name               5 non-null      object\n",
      "dtypes: int64(4), object(5)\n",
      "memory usage: 400.0+ bytes\n"
     ]
    }
   ],
   "source": [
    "df_new.info()"
   ]
  },
  {
   "cell_type": "code",
   "execution_count": 76,
   "id": "b1ea4b7f",
   "metadata": {
    "executionInfo": {
     "elapsed": 1084,
     "status": "ok",
     "timestamp": 1642997423828,
     "user": {
      "displayName": "Phuong Dam",
      "photoUrl": "https://lh3.googleusercontent.com/a/default-user=s64",
      "userId": "01072403895711103873"
     },
     "user_tz": -420
    },
    "id": "b1ea4b7f"
   },
   "outputs": [],
   "source": [
    "# convert pandas dataframe to pyspark dataframe\n",
    "df_new_sub = df_new[['Review Text']]\n",
    "df_schema = StructType([StructField(\"Review Text\", StringType(), True)])\n",
    "data_new = spark.createDataFrame(df_new_sub, schema=df_schema)"
   ]
  },
  {
   "cell_type": "code",
   "execution_count": 77,
   "id": "9bccfbe1",
   "metadata": {
    "colab": {
     "base_uri": "https://localhost:8080/"
    },
    "executionInfo": {
     "elapsed": 8,
     "status": "ok",
     "timestamp": 1642997423828,
     "user": {
      "displayName": "Phuong Dam",
      "photoUrl": "https://lh3.googleusercontent.com/a/default-user=s64",
      "userId": "01072403895711103873"
     },
     "user_tz": -420
    },
    "id": "9bccfbe1",
    "outputId": "046e26de-462d-4364-8f8a-73b9e96d88b6"
   },
   "outputs": [
    {
     "name": "stdout",
     "output_type": "stream",
     "text": [
      "+--------------------+\n",
      "|         Review Text|\n",
      "+--------------------+\n",
      "|Dress runs small ...|\n",
      "|Nice top. armhole...|\n",
      "|Was really excite...|\n",
      "|If you are going ...|\n",
      "|I saw this online...|\n",
      "+--------------------+\n",
      "\n"
     ]
    }
   ],
   "source": [
    "data_new.show()"
   ]
  },
  {
   "cell_type": "code",
   "execution_count": 78,
   "id": "1126de03",
   "metadata": {
    "executionInfo": {
     "elapsed": 5,
     "status": "ok",
     "timestamp": 1642997423828,
     "user": {
      "displayName": "Phuong Dam",
      "photoUrl": "https://lh3.googleusercontent.com/a/default-user=s64",
      "userId": "01072403895711103873"
     },
     "user_tz": -420
    },
    "id": "1126de03"
   },
   "outputs": [
    {
     "name": "stderr",
     "output_type": "stream",
     "text": [
      "22/01/24 11:23:09 WARN StringIndexerModel: Input column Rating does not exist during transformation. Skip StringIndexerModel for this column.\n"
     ]
    }
   ],
   "source": [
    "clean_data_new = cleaner.transform(data_new)"
   ]
  },
  {
   "cell_type": "code",
   "execution_count": 79,
   "id": "301a3f45",
   "metadata": {
    "executionInfo": {
     "elapsed": 6,
     "status": "ok",
     "timestamp": 1642997423829,
     "user": {
      "displayName": "Phuong Dam",
      "photoUrl": "https://lh3.googleusercontent.com/a/default-user=s64",
      "userId": "01072403895711103873"
     },
     "user_tz": -420
    },
    "id": "301a3f45"
   },
   "outputs": [],
   "source": [
    "result_new = predictor_6.transform(clean_data_new)"
   ]
  },
  {
   "cell_type": "code",
   "execution_count": 80,
   "id": "43a405b6",
   "metadata": {
    "colab": {
     "base_uri": "https://localhost:8080/"
    },
    "executionInfo": {
     "elapsed": 1320,
     "status": "ok",
     "timestamp": 1642997425144,
     "user": {
      "displayName": "Phuong Dam",
      "photoUrl": "https://lh3.googleusercontent.com/a/default-user=s64",
      "userId": "01072403895711103873"
     },
     "user_tz": -420
    },
    "id": "43a405b6",
    "outputId": "4383d33c-c097-44f3-bdb0-ed722f3f971b"
   },
   "outputs": [
    {
     "name": "stderr",
     "output_type": "stream",
     "text": [
      "22/01/24 11:23:09 WARN DAGScheduler: Broadcasting large task binary with size 2.5 MiB\n",
      "22/01/24 11:23:10 WARN DAGScheduler: Broadcasting large task binary with size 2.5 MiB\n",
      "22/01/24 11:23:10 WARN DAGScheduler: Broadcasting large task binary with size 2.5 MiB\n"
     ]
    },
    {
     "name": "stdout",
     "output_type": "stream",
     "text": [
      "+--------------------+----------+\n",
      "|         Review Text|prediction|\n",
      "+--------------------+----------+\n",
      "|Dress runs small ...|       3.0|\n",
      "|Nice top. armhole...|       1.0|\n",
      "|Was really excite...|       3.0|\n",
      "|If you are going ...|       4.0|\n",
      "|I saw this online...|       0.0|\n",
      "+--------------------+----------+\n",
      "\n"
     ]
    }
   ],
   "source": [
    "result_new.select('Review Text','prediction').show()"
   ]
  },
  {
   "cell_type": "code",
   "execution_count": 81,
   "id": "544e7b88",
   "metadata": {
    "executionInfo": {
     "elapsed": 25,
     "status": "ok",
     "timestamp": 1642997425144,
     "user": {
      "displayName": "Phuong Dam",
      "photoUrl": "https://lh3.googleusercontent.com/a/default-user=s64",
      "userId": "01072403895711103873"
     },
     "user_tz": -420
    },
    "id": "544e7b88"
   },
   "outputs": [],
   "source": [
    "# convert 'prediction' to 'Rating'\n",
    "result_new = result_new.withColumn('Rating', when(result_new.prediction==0,5)\n",
    "                                            .when(result_new.prediction==1,4)\n",
    "                                            .when(result_new.prediction==2,3)\n",
    "                                            .when(result_new.prediction==3,2)\n",
    "                                            .when(result_new.prediction==4,1)\n",
    "                                  )"
   ]
  },
  {
   "cell_type": "code",
   "execution_count": 82,
   "id": "90d07010",
   "metadata": {
    "colab": {
     "base_uri": "https://localhost:8080/"
    },
    "executionInfo": {
     "elapsed": 22,
     "status": "ok",
     "timestamp": 1642997425145,
     "user": {
      "displayName": "Phuong Dam",
      "photoUrl": "https://lh3.googleusercontent.com/a/default-user=s64",
      "userId": "01072403895711103873"
     },
     "user_tz": -420
    },
    "id": "90d07010",
    "outputId": "cc41c59e-430c-45b3-984b-073a31a72fab"
   },
   "outputs": [
    {
     "name": "stdout",
     "output_type": "stream",
     "text": [
      "+--------------------+------+\n",
      "|         Review Text|Rating|\n",
      "+--------------------+------+\n",
      "|Dress runs small ...|     2|\n",
      "|Nice top. armhole...|     4|\n",
      "|Was really excite...|     2|\n",
      "|If you are going ...|     1|\n",
      "|I saw this online...|     5|\n",
      "+--------------------+------+\n",
      "\n"
     ]
    },
    {
     "name": "stderr",
     "output_type": "stream",
     "text": [
      "22/01/24 11:23:10 WARN DAGScheduler: Broadcasting large task binary with size 2.5 MiB\n",
      "22/01/24 11:23:10 WARN DAGScheduler: Broadcasting large task binary with size 2.5 MiB\n",
      "22/01/24 11:23:10 WARN DAGScheduler: Broadcasting large task binary with size 2.5 MiB\n"
     ]
    }
   ],
   "source": [
    "result_new.select('Review Text','Rating').show()"
   ]
  }
 ],
 "metadata": {
  "colab": {
   "collapsed_sections": [
    "VLpEiR3YIX1h",
    "hBVw3a7eJCCz",
    "2hRR2wV0dGcn",
    "Iqb7_OuYdCsj",
    "299a64c1",
    "ad082b4e"
   ],
   "name": "Q1_Classification.ipynb",
   "provenance": []
  },
  "kernelspec": {
   "display_name": "Python 3 (ipykernel)",
   "language": "python",
   "name": "python3"
  },
  "language_info": {
   "codemirror_mode": {
    "name": "ipython",
    "version": 3
   },
   "file_extension": ".py",
   "mimetype": "text/x-python",
   "name": "python",
   "nbconvert_exporter": "python",
   "pygments_lexer": "ipython3",
   "version": "3.8.12"
  }
 },
 "nbformat": 4,
 "nbformat_minor": 5
}
